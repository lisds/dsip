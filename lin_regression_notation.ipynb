{
 "cells": [
  {
   "cell_type": "markdown",
   "id": "1746043b",
   "metadata": {},
   "source": [
    "# Notation for linear regression models"
   ]
  },
  {
   "cell_type": "code",
   "execution_count": 1,
   "id": "ff84dd1d",
   "metadata": {},
   "outputs": [],
   "source": [
    "# import numerical and plotting libraries\n",
    "import numpy as np\n",
    "import matplotlib.pyplot as plt\n",
    "import pandas as pd\n",
    "# Load library to display values in notebook.\n",
    "from jupyprint import jupyprint, arraytex\n",
    "# only show 6 decimals when printing\n",
    "np.set_printoptions(precision=6)\n",
    "import scipy.stats as sps"
   ]
  },
  {
   "cell_type": "markdown",
   "id": "7f186424",
   "metadata": {},
   "source": [
    "This page starts with the model for simple linear regression, that you have already\n",
    "seen in the [regression page](https://lisds.github.io/textbook/mean-slopes/finding_lines.html).\n",
    "\n",
    "Our purpose is to introduce the *mathematical notation* for linear regression models.\n",
    "Whilst a subset of readers might be excited by this proposition, to others\n",
    "the subject might sound complicated and unnecessary. We would like to demonstrate\n",
    "why this is not the case.\n",
    "\n",
    "This mathematical notation frequently appears in research papers and in other sources\n",
    "about regression analysis, and it is important to understand it. This notation\n",
    "makes it easy to describe different regression models in a concise way, which is \n",
    "useful for assessing which model best fits your data. It will also allow you to\n",
    "communicate easily with other data scientists about the models you are fitting.\n",
    "By teaching this notation via python code which you already understand, we aim to\n",
    "make the notation clear and digestible. \n",
    "\n",
    "*Note*: it is very likely this page will be challenging. Do not worry if you do\n",
    "not understand some of the notation the first time you see it. In fact, we would\n",
    "be surprised if you did. You may need to revisit certain sections several times -\n",
    "but please rest assured that with perseverance things will make sense.\n",
    "\n",
    "We believe that it is easier to understand statistical techniques when you know clearly\n",
    "what their purpose is - when you would use them, and why. With this in mind we will now\n",
    "briefly explain the purpose of statistical modelling, of which linear regression is one type.\n",
    "\n",
    "The typical situation in data science is this: we would like to answer a question about\n",
    "how the world works. This question typically regards a set of **observational units** -\n",
    "these might be people, city districts, cows, rivers, continents, molecules etc. Each *single*\n",
    "observational unit has characteristics which vary when we compare *different* observational units\n",
    "(we call these characteristics **variables**). \n",
    "\n",
    "For instance, if our research question was \"are people who are taller generally\n",
    "heavier?\" then our observational units are *people*, and the variables we are interested\n",
    "in are *height* and *weight*. Our dataset would be a collection of measurements\n",
    "of these variables from a specific group of people. Each individual person in our dataset\n",
    "has a height and a weight, and these values vary when we compare across different people. (We\n",
    "can refer to each individual's height or weight as a *score* on that variable - typically, each observational\n",
    "unit has a score on each variable in the dataset).\n",
    "\n",
    "Once we have our dataset, regression modelling has two key purposes:\n",
    "\n",
    "- description: precisely quantifying the relationships between the variables in our dataset (in other words, describing the relationships numerically). This is also called *fitting a model*.\n",
    "\n",
    "- prediction: using our model's description of the relationships between the variables in our dataset to make predictions about *new* datasets which contain different observational units with the same variables\n",
    "\n",
    "For instance, a finance company might fit a model to a dataset containing information\n",
    "about customer characteristics and whether or not each customer defaulted on loan repayments.\n",
    "This model gives a mathematical *description* of the relationships between the variables in\n",
    "the dataset (e.g. customer characteristics, like age, income, job type, etc.), and whether or\n",
    "not they defaulted on loan repayments. The company might then use this model to make\n",
    "*predictions* about new customers, to estimate how likely they are to default on loan\n",
    "repayments in the future, given their score on these variables.\n",
    "\n",
    "Now we are armed with some more context about the purpose of linear regression, we will introduce the mathematical notation via a historical social science dataset, to which we now turn our attention.\n",
    "\n",
    "\n",
    "## Doing a good job\n",
    "\n",
    "Duncan {cite}`duncan1961socioeconomic` combined information from the 1950 U.S.\n",
    "Census with data collected by the National Opinion Research Centre (NORC). The\n",
    "Census data contained information about different occupations, such as the\n",
    "percentage of people working in that occupation who earned over a certain\n",
    "amount per year. The NORC data was from a survey which asked participants to\n",
    "rate how prestigious they considered each occupation.\n",
    "\n",
    "Here are descriptions of the variables in the dataset, which covers 45 occupations (adapted from [here](https://rdrr.io/cran/carData/man/Duncan.html)):\n",
    "\n",
    "`name` - the name of the occupation, from the 1950 US Census\n",
    "\n",
    "`type`- type of occupation, with the following categories ``prof``,\n",
    "professional and managerial; ``wc``, white-collar; ``bc``, blue-collar. (E.g. how the\n",
    "occupation was classified in the 1950 US Census)\n",
    "\n",
    "`income` - percentage of census respondents within the occupation who\n",
    "earned 3,500 dollars or more per year (about 36,000 US dollars in 2017)\n",
    "\n",
    "`education` - percentage of census respondents within the occupation who were high school\n",
    "graduates \n",
    "\n",
    "`prestige` - percentage of respondents in the NORC survey who rated the occupation\n",
    "as “good” or better in prestige\n",
    "\n",
    "Here is the dataset:"
   ]
  },
  {
   "cell_type": "code",
   "execution_count": 2,
   "id": "b9e73321",
   "metadata": {},
   "outputs": [
    {
     "data": {
      "text/html": [
       "<div>\n",
       "<style scoped>\n",
       "    .dataframe tbody tr th:only-of-type {\n",
       "        vertical-align: middle;\n",
       "    }\n",
       "\n",
       "    .dataframe tbody tr th {\n",
       "        vertical-align: top;\n",
       "    }\n",
       "\n",
       "    .dataframe thead th {\n",
       "        text-align: right;\n",
       "    }\n",
       "</style>\n",
       "<table border=\"1\" class=\"dataframe\">\n",
       "  <thead>\n",
       "    <tr style=\"text-align: right;\">\n",
       "      <th></th>\n",
       "      <th>name</th>\n",
       "      <th>type</th>\n",
       "      <th>income</th>\n",
       "      <th>education</th>\n",
       "      <th>prestige</th>\n",
       "    </tr>\n",
       "  </thead>\n",
       "  <tbody>\n",
       "    <tr>\n",
       "      <th>0</th>\n",
       "      <td>accountant</td>\n",
       "      <td>prof</td>\n",
       "      <td>62</td>\n",
       "      <td>86</td>\n",
       "      <td>82</td>\n",
       "    </tr>\n",
       "    <tr>\n",
       "      <th>1</th>\n",
       "      <td>pilot</td>\n",
       "      <td>prof</td>\n",
       "      <td>72</td>\n",
       "      <td>76</td>\n",
       "      <td>83</td>\n",
       "    </tr>\n",
       "    <tr>\n",
       "      <th>2</th>\n",
       "      <td>architect</td>\n",
       "      <td>prof</td>\n",
       "      <td>75</td>\n",
       "      <td>92</td>\n",
       "      <td>90</td>\n",
       "    </tr>\n",
       "    <tr>\n",
       "      <th>3</th>\n",
       "      <td>author</td>\n",
       "      <td>prof</td>\n",
       "      <td>55</td>\n",
       "      <td>90</td>\n",
       "      <td>76</td>\n",
       "    </tr>\n",
       "    <tr>\n",
       "      <th>4</th>\n",
       "      <td>chemist</td>\n",
       "      <td>prof</td>\n",
       "      <td>64</td>\n",
       "      <td>86</td>\n",
       "      <td>90</td>\n",
       "    </tr>\n",
       "    <tr>\n",
       "      <th>5</th>\n",
       "      <td>minister</td>\n",
       "      <td>prof</td>\n",
       "      <td>21</td>\n",
       "      <td>84</td>\n",
       "      <td>87</td>\n",
       "    </tr>\n",
       "    <tr>\n",
       "      <th>6</th>\n",
       "      <td>professor</td>\n",
       "      <td>prof</td>\n",
       "      <td>64</td>\n",
       "      <td>93</td>\n",
       "      <td>93</td>\n",
       "    </tr>\n",
       "    <tr>\n",
       "      <th>7</th>\n",
       "      <td>dentist</td>\n",
       "      <td>prof</td>\n",
       "      <td>80</td>\n",
       "      <td>100</td>\n",
       "      <td>90</td>\n",
       "    </tr>\n",
       "    <tr>\n",
       "      <th>8</th>\n",
       "      <td>reporter</td>\n",
       "      <td>wc</td>\n",
       "      <td>67</td>\n",
       "      <td>87</td>\n",
       "      <td>52</td>\n",
       "    </tr>\n",
       "    <tr>\n",
       "      <th>9</th>\n",
       "      <td>engineer</td>\n",
       "      <td>prof</td>\n",
       "      <td>72</td>\n",
       "      <td>86</td>\n",
       "      <td>88</td>\n",
       "    </tr>\n",
       "    <tr>\n",
       "      <th>10</th>\n",
       "      <td>undertaker</td>\n",
       "      <td>prof</td>\n",
       "      <td>42</td>\n",
       "      <td>74</td>\n",
       "      <td>57</td>\n",
       "    </tr>\n",
       "    <tr>\n",
       "      <th>11</th>\n",
       "      <td>lawyer</td>\n",
       "      <td>prof</td>\n",
       "      <td>76</td>\n",
       "      <td>98</td>\n",
       "      <td>89</td>\n",
       "    </tr>\n",
       "    <tr>\n",
       "      <th>12</th>\n",
       "      <td>physician</td>\n",
       "      <td>prof</td>\n",
       "      <td>76</td>\n",
       "      <td>97</td>\n",
       "      <td>97</td>\n",
       "    </tr>\n",
       "    <tr>\n",
       "      <th>13</th>\n",
       "      <td>welfare.worker</td>\n",
       "      <td>prof</td>\n",
       "      <td>41</td>\n",
       "      <td>84</td>\n",
       "      <td>59</td>\n",
       "    </tr>\n",
       "    <tr>\n",
       "      <th>14</th>\n",
       "      <td>teacher</td>\n",
       "      <td>prof</td>\n",
       "      <td>48</td>\n",
       "      <td>91</td>\n",
       "      <td>73</td>\n",
       "    </tr>\n",
       "    <tr>\n",
       "      <th>15</th>\n",
       "      <td>conductor</td>\n",
       "      <td>wc</td>\n",
       "      <td>76</td>\n",
       "      <td>34</td>\n",
       "      <td>38</td>\n",
       "    </tr>\n",
       "    <tr>\n",
       "      <th>16</th>\n",
       "      <td>contractor</td>\n",
       "      <td>prof</td>\n",
       "      <td>53</td>\n",
       "      <td>45</td>\n",
       "      <td>76</td>\n",
       "    </tr>\n",
       "    <tr>\n",
       "      <th>17</th>\n",
       "      <td>factory.owner</td>\n",
       "      <td>prof</td>\n",
       "      <td>60</td>\n",
       "      <td>56</td>\n",
       "      <td>81</td>\n",
       "    </tr>\n",
       "    <tr>\n",
       "      <th>18</th>\n",
       "      <td>store.manager</td>\n",
       "      <td>prof</td>\n",
       "      <td>42</td>\n",
       "      <td>44</td>\n",
       "      <td>45</td>\n",
       "    </tr>\n",
       "    <tr>\n",
       "      <th>19</th>\n",
       "      <td>banker</td>\n",
       "      <td>prof</td>\n",
       "      <td>78</td>\n",
       "      <td>82</td>\n",
       "      <td>92</td>\n",
       "    </tr>\n",
       "    <tr>\n",
       "      <th>20</th>\n",
       "      <td>bookkeeper</td>\n",
       "      <td>wc</td>\n",
       "      <td>29</td>\n",
       "      <td>72</td>\n",
       "      <td>39</td>\n",
       "    </tr>\n",
       "    <tr>\n",
       "      <th>21</th>\n",
       "      <td>mail.carrier</td>\n",
       "      <td>wc</td>\n",
       "      <td>48</td>\n",
       "      <td>55</td>\n",
       "      <td>34</td>\n",
       "    </tr>\n",
       "    <tr>\n",
       "      <th>22</th>\n",
       "      <td>insurance.agent</td>\n",
       "      <td>wc</td>\n",
       "      <td>55</td>\n",
       "      <td>71</td>\n",
       "      <td>41</td>\n",
       "    </tr>\n",
       "    <tr>\n",
       "      <th>23</th>\n",
       "      <td>store.clerk</td>\n",
       "      <td>wc</td>\n",
       "      <td>29</td>\n",
       "      <td>50</td>\n",
       "      <td>16</td>\n",
       "    </tr>\n",
       "    <tr>\n",
       "      <th>24</th>\n",
       "      <td>carpenter</td>\n",
       "      <td>bc</td>\n",
       "      <td>21</td>\n",
       "      <td>23</td>\n",
       "      <td>33</td>\n",
       "    </tr>\n",
       "    <tr>\n",
       "      <th>25</th>\n",
       "      <td>electrician</td>\n",
       "      <td>bc</td>\n",
       "      <td>47</td>\n",
       "      <td>39</td>\n",
       "      <td>53</td>\n",
       "    </tr>\n",
       "    <tr>\n",
       "      <th>26</th>\n",
       "      <td>RR.engineer</td>\n",
       "      <td>bc</td>\n",
       "      <td>81</td>\n",
       "      <td>28</td>\n",
       "      <td>67</td>\n",
       "    </tr>\n",
       "    <tr>\n",
       "      <th>27</th>\n",
       "      <td>machinist</td>\n",
       "      <td>bc</td>\n",
       "      <td>36</td>\n",
       "      <td>32</td>\n",
       "      <td>57</td>\n",
       "    </tr>\n",
       "    <tr>\n",
       "      <th>28</th>\n",
       "      <td>auto.repairman</td>\n",
       "      <td>bc</td>\n",
       "      <td>22</td>\n",
       "      <td>22</td>\n",
       "      <td>26</td>\n",
       "    </tr>\n",
       "    <tr>\n",
       "      <th>29</th>\n",
       "      <td>plumber</td>\n",
       "      <td>bc</td>\n",
       "      <td>44</td>\n",
       "      <td>25</td>\n",
       "      <td>29</td>\n",
       "    </tr>\n",
       "    <tr>\n",
       "      <th>30</th>\n",
       "      <td>gas.stn.attendant</td>\n",
       "      <td>bc</td>\n",
       "      <td>15</td>\n",
       "      <td>29</td>\n",
       "      <td>10</td>\n",
       "    </tr>\n",
       "    <tr>\n",
       "      <th>31</th>\n",
       "      <td>coal.miner</td>\n",
       "      <td>bc</td>\n",
       "      <td>7</td>\n",
       "      <td>7</td>\n",
       "      <td>15</td>\n",
       "    </tr>\n",
       "    <tr>\n",
       "      <th>32</th>\n",
       "      <td>streetcar.motorman</td>\n",
       "      <td>bc</td>\n",
       "      <td>42</td>\n",
       "      <td>26</td>\n",
       "      <td>19</td>\n",
       "    </tr>\n",
       "    <tr>\n",
       "      <th>33</th>\n",
       "      <td>taxi.driver</td>\n",
       "      <td>bc</td>\n",
       "      <td>9</td>\n",
       "      <td>19</td>\n",
       "      <td>10</td>\n",
       "    </tr>\n",
       "    <tr>\n",
       "      <th>34</th>\n",
       "      <td>truck.driver</td>\n",
       "      <td>bc</td>\n",
       "      <td>21</td>\n",
       "      <td>15</td>\n",
       "      <td>13</td>\n",
       "    </tr>\n",
       "    <tr>\n",
       "      <th>35</th>\n",
       "      <td>machine.operator</td>\n",
       "      <td>bc</td>\n",
       "      <td>21</td>\n",
       "      <td>20</td>\n",
       "      <td>24</td>\n",
       "    </tr>\n",
       "    <tr>\n",
       "      <th>36</th>\n",
       "      <td>barber</td>\n",
       "      <td>bc</td>\n",
       "      <td>16</td>\n",
       "      <td>26</td>\n",
       "      <td>20</td>\n",
       "    </tr>\n",
       "    <tr>\n",
       "      <th>37</th>\n",
       "      <td>bartender</td>\n",
       "      <td>bc</td>\n",
       "      <td>16</td>\n",
       "      <td>28</td>\n",
       "      <td>7</td>\n",
       "    </tr>\n",
       "    <tr>\n",
       "      <th>38</th>\n",
       "      <td>shoe.shiner</td>\n",
       "      <td>bc</td>\n",
       "      <td>9</td>\n",
       "      <td>17</td>\n",
       "      <td>3</td>\n",
       "    </tr>\n",
       "    <tr>\n",
       "      <th>39</th>\n",
       "      <td>cook</td>\n",
       "      <td>bc</td>\n",
       "      <td>14</td>\n",
       "      <td>22</td>\n",
       "      <td>16</td>\n",
       "    </tr>\n",
       "    <tr>\n",
       "      <th>40</th>\n",
       "      <td>soda.clerk</td>\n",
       "      <td>bc</td>\n",
       "      <td>12</td>\n",
       "      <td>30</td>\n",
       "      <td>6</td>\n",
       "    </tr>\n",
       "    <tr>\n",
       "      <th>41</th>\n",
       "      <td>watchman</td>\n",
       "      <td>bc</td>\n",
       "      <td>17</td>\n",
       "      <td>25</td>\n",
       "      <td>11</td>\n",
       "    </tr>\n",
       "    <tr>\n",
       "      <th>42</th>\n",
       "      <td>janitor</td>\n",
       "      <td>bc</td>\n",
       "      <td>7</td>\n",
       "      <td>20</td>\n",
       "      <td>8</td>\n",
       "    </tr>\n",
       "    <tr>\n",
       "      <th>43</th>\n",
       "      <td>policeman</td>\n",
       "      <td>bc</td>\n",
       "      <td>34</td>\n",
       "      <td>47</td>\n",
       "      <td>41</td>\n",
       "    </tr>\n",
       "    <tr>\n",
       "      <th>44</th>\n",
       "      <td>waiter</td>\n",
       "      <td>bc</td>\n",
       "      <td>8</td>\n",
       "      <td>32</td>\n",
       "      <td>10</td>\n",
       "    </tr>\n",
       "  </tbody>\n",
       "</table>\n",
       "</div>"
      ],
      "text/plain": [
       "                  name  type  income  education  prestige\n",
       "0           accountant  prof      62         86        82\n",
       "1                pilot  prof      72         76        83\n",
       "2            architect  prof      75         92        90\n",
       "3               author  prof      55         90        76\n",
       "4              chemist  prof      64         86        90\n",
       "5             minister  prof      21         84        87\n",
       "6            professor  prof      64         93        93\n",
       "7              dentist  prof      80        100        90\n",
       "8             reporter    wc      67         87        52\n",
       "9             engineer  prof      72         86        88\n",
       "10          undertaker  prof      42         74        57\n",
       "11              lawyer  prof      76         98        89\n",
       "12           physician  prof      76         97        97\n",
       "13      welfare.worker  prof      41         84        59\n",
       "14             teacher  prof      48         91        73\n",
       "15           conductor    wc      76         34        38\n",
       "16          contractor  prof      53         45        76\n",
       "17       factory.owner  prof      60         56        81\n",
       "18       store.manager  prof      42         44        45\n",
       "19              banker  prof      78         82        92\n",
       "20          bookkeeper    wc      29         72        39\n",
       "21        mail.carrier    wc      48         55        34\n",
       "22     insurance.agent    wc      55         71        41\n",
       "23         store.clerk    wc      29         50        16\n",
       "24           carpenter    bc      21         23        33\n",
       "25         electrician    bc      47         39        53\n",
       "26         RR.engineer    bc      81         28        67\n",
       "27           machinist    bc      36         32        57\n",
       "28      auto.repairman    bc      22         22        26\n",
       "29             plumber    bc      44         25        29\n",
       "30   gas.stn.attendant    bc      15         29        10\n",
       "31          coal.miner    bc       7          7        15\n",
       "32  streetcar.motorman    bc      42         26        19\n",
       "33         taxi.driver    bc       9         19        10\n",
       "34        truck.driver    bc      21         15        13\n",
       "35    machine.operator    bc      21         20        24\n",
       "36              barber    bc      16         26        20\n",
       "37           bartender    bc      16         28         7\n",
       "38         shoe.shiner    bc       9         17         3\n",
       "39                cook    bc      14         22        16\n",
       "40          soda.clerk    bc      12         30         6\n",
       "41            watchman    bc      17         25        11\n",
       "42             janitor    bc       7         20         8\n",
       "43           policeman    bc      34         47        41\n",
       "44              waiter    bc       8         32        10"
      ]
     },
     "execution_count": 2,
     "metadata": {},
     "output_type": "execute_result"
    }
   ],
   "source": [
    "# read in the data\n",
    "df = pd.read_csv(\"data/Duncan_Occupational_Prestige.csv\")\n",
    "\n",
    "# show the data\n",
    "df"
   ]
  },
  {
   "cell_type": "markdown",
   "id": "19ae97a3",
   "metadata": {},
   "source": [
    "For this data, the observational units are occupations. Each occupation\n",
    "has a value associated with it on each of the variables in the dataset.\n",
    "\n",
    "Duncan's original purpose with this data was to use linear regression\n",
    "to *describe* the predictive relationship between `income`, `education` and `prestige`\n",
    "(and in fact Duncan carried out the regression using a [mechanical calculator](https://socialsciences.mcmaster.ca/jfox/Courses/R/ICPSR/Duncan.Rmd),\n",
    "which fortunately we do not have to do!). Duncan then used the model to\n",
    "make *predictions* about the `prestige` scores of occupations for which no\n",
    "prestige data was available. \n",
    "\n",
    "To keep examples on this page readable and easier to visualize, we are \n",
    "going to use only the first 15 observations from this dataset (though everything\n",
    "we say applies to the larger dataset). The code cell below selects the first\n",
    "15 observations from the larger dataset:"
   ]
  },
  {
   "cell_type": "code",
   "execution_count": 3,
   "id": "3b199b96",
   "metadata": {},
   "outputs": [
    {
     "data": {
      "text/html": [
       "<div>\n",
       "<style scoped>\n",
       "    .dataframe tbody tr th:only-of-type {\n",
       "        vertical-align: middle;\n",
       "    }\n",
       "\n",
       "    .dataframe tbody tr th {\n",
       "        vertical-align: top;\n",
       "    }\n",
       "\n",
       "    .dataframe thead th {\n",
       "        text-align: right;\n",
       "    }\n",
       "</style>\n",
       "<table border=\"1\" class=\"dataframe\">\n",
       "  <thead>\n",
       "    <tr style=\"text-align: right;\">\n",
       "      <th></th>\n",
       "      <th>name</th>\n",
       "      <th>type</th>\n",
       "      <th>income</th>\n",
       "      <th>education</th>\n",
       "      <th>prestige</th>\n",
       "    </tr>\n",
       "  </thead>\n",
       "  <tbody>\n",
       "    <tr>\n",
       "      <th>0</th>\n",
       "      <td>accountant</td>\n",
       "      <td>prof</td>\n",
       "      <td>62</td>\n",
       "      <td>86</td>\n",
       "      <td>82</td>\n",
       "    </tr>\n",
       "    <tr>\n",
       "      <th>1</th>\n",
       "      <td>pilot</td>\n",
       "      <td>prof</td>\n",
       "      <td>72</td>\n",
       "      <td>76</td>\n",
       "      <td>83</td>\n",
       "    </tr>\n",
       "    <tr>\n",
       "      <th>2</th>\n",
       "      <td>architect</td>\n",
       "      <td>prof</td>\n",
       "      <td>75</td>\n",
       "      <td>92</td>\n",
       "      <td>90</td>\n",
       "    </tr>\n",
       "    <tr>\n",
       "      <th>3</th>\n",
       "      <td>author</td>\n",
       "      <td>prof</td>\n",
       "      <td>55</td>\n",
       "      <td>90</td>\n",
       "      <td>76</td>\n",
       "    </tr>\n",
       "    <tr>\n",
       "      <th>4</th>\n",
       "      <td>chemist</td>\n",
       "      <td>prof</td>\n",
       "      <td>64</td>\n",
       "      <td>86</td>\n",
       "      <td>90</td>\n",
       "    </tr>\n",
       "    <tr>\n",
       "      <th>5</th>\n",
       "      <td>minister</td>\n",
       "      <td>prof</td>\n",
       "      <td>21</td>\n",
       "      <td>84</td>\n",
       "      <td>87</td>\n",
       "    </tr>\n",
       "    <tr>\n",
       "      <th>6</th>\n",
       "      <td>professor</td>\n",
       "      <td>prof</td>\n",
       "      <td>64</td>\n",
       "      <td>93</td>\n",
       "      <td>93</td>\n",
       "    </tr>\n",
       "    <tr>\n",
       "      <th>7</th>\n",
       "      <td>dentist</td>\n",
       "      <td>prof</td>\n",
       "      <td>80</td>\n",
       "      <td>100</td>\n",
       "      <td>90</td>\n",
       "    </tr>\n",
       "    <tr>\n",
       "      <th>8</th>\n",
       "      <td>reporter</td>\n",
       "      <td>wc</td>\n",
       "      <td>67</td>\n",
       "      <td>87</td>\n",
       "      <td>52</td>\n",
       "    </tr>\n",
       "    <tr>\n",
       "      <th>9</th>\n",
       "      <td>engineer</td>\n",
       "      <td>prof</td>\n",
       "      <td>72</td>\n",
       "      <td>86</td>\n",
       "      <td>88</td>\n",
       "    </tr>\n",
       "    <tr>\n",
       "      <th>10</th>\n",
       "      <td>undertaker</td>\n",
       "      <td>prof</td>\n",
       "      <td>42</td>\n",
       "      <td>74</td>\n",
       "      <td>57</td>\n",
       "    </tr>\n",
       "    <tr>\n",
       "      <th>11</th>\n",
       "      <td>lawyer</td>\n",
       "      <td>prof</td>\n",
       "      <td>76</td>\n",
       "      <td>98</td>\n",
       "      <td>89</td>\n",
       "    </tr>\n",
       "    <tr>\n",
       "      <th>12</th>\n",
       "      <td>physician</td>\n",
       "      <td>prof</td>\n",
       "      <td>76</td>\n",
       "      <td>97</td>\n",
       "      <td>97</td>\n",
       "    </tr>\n",
       "    <tr>\n",
       "      <th>13</th>\n",
       "      <td>welfare.worker</td>\n",
       "      <td>prof</td>\n",
       "      <td>41</td>\n",
       "      <td>84</td>\n",
       "      <td>59</td>\n",
       "    </tr>\n",
       "    <tr>\n",
       "      <th>14</th>\n",
       "      <td>teacher</td>\n",
       "      <td>prof</td>\n",
       "      <td>48</td>\n",
       "      <td>91</td>\n",
       "      <td>73</td>\n",
       "    </tr>\n",
       "  </tbody>\n",
       "</table>\n",
       "</div>"
      ],
      "text/plain": [
       "              name  type  income  education  prestige\n",
       "0       accountant  prof      62         86        82\n",
       "1            pilot  prof      72         76        83\n",
       "2        architect  prof      75         92        90\n",
       "3           author  prof      55         90        76\n",
       "4          chemist  prof      64         86        90\n",
       "5         minister  prof      21         84        87\n",
       "6        professor  prof      64         93        93\n",
       "7          dentist  prof      80        100        90\n",
       "8         reporter    wc      67         87        52\n",
       "9         engineer  prof      72         86        88\n",
       "10      undertaker  prof      42         74        57\n",
       "11          lawyer  prof      76         98        89\n",
       "12       physician  prof      76         97        97\n",
       "13  welfare.worker  prof      41         84        59\n",
       "14         teacher  prof      48         91        73"
      ]
     },
     "execution_count": 3,
     "metadata": {},
     "output_type": "execute_result"
    }
   ],
   "source": [
    "# get the first 15 rows\n",
    "df = df.head(15)\n",
    "\n",
    "# show the smaller dataset\n",
    "df"
   ]
  },
  {
   "cell_type": "markdown",
   "id": "64398d29",
   "metadata": {},
   "source": [
    "For our purposes, we will look at the relationship between `education` and `prestige`.\n",
    "Let's store the values from the dataframe as separate variables, to save\n",
    "some typing. We will store the values as numpy arrays:"
   ]
  },
  {
   "cell_type": "code",
   "execution_count": 4,
   "id": "ac7e338c",
   "metadata": {},
   "outputs": [
    {
     "data": {
      "text/plain": [
       "array([ 86,  76,  92,  90,  86,  84,  93, 100,  87,  86,  74,  98,  97,\n",
       "        84,  91])"
      ]
     },
     "execution_count": 4,
     "metadata": {},
     "output_type": "execute_result"
    }
   ],
   "source": [
    "# store the education values as a variable\n",
    "education = np.array(df['education'])\n",
    "\n",
    "# show the values\n",
    "education"
   ]
  },
  {
   "cell_type": "code",
   "execution_count": 5,
   "id": "48bed852",
   "metadata": {},
   "outputs": [
    {
     "data": {
      "text/plain": [
       "array([82, 83, 90, 76, 90, 87, 93, 90, 52, 88, 57, 89, 97, 59, 73])"
      ]
     },
     "execution_count": 5,
     "metadata": {},
     "output_type": "execute_result"
    }
   ],
   "source": [
    "# store the prestige values as a variable \n",
    "prestige = np.array(df['prestige'])\n",
    "\n",
    "# show the values\n",
    "prestige"
   ]
  },
  {
   "cell_type": "markdown",
   "id": "9dd8ec94",
   "metadata": {},
   "source": [
    "Here is a plot of the two variables, with `education` on the x-axis and\n",
    "`prestige` on the y-axis.  We could say that this plot depicts `prestige` *as\n",
    "a function of* `education`, where `education` is on the x-axis."
   ]
  },
  {
   "cell_type": "code",
   "execution_count": 6,
   "id": "943477f8",
   "metadata": {},
   "outputs": [
    {
     "data": {
      "image/png": "[encoded data removed]",
      "text/plain": [
       "<Figure size 640x480 with 1 Axes>"
      ]
     },
     "metadata": {},
     "output_type": "display_data"
    }
   ],
   "source": [
    "# plot `prestige` as a function of `education`\n",
    "plt.scatter(education, prestige)\n",
    "plt.xlabel('Education')\n",
    "plt.ylabel('Prestige');"
   ]
  },
  {
   "cell_type": "markdown",
   "id": "b4ea5c33",
   "metadata": {},
   "source": [
    "Each point on this scatterplot represents one occupation: the x and y coordinates\n",
    "of the point are given by that occupation's `education` score and `prestige` score.\n",
    "\n",
    "We will call the sequence of 15 `education` scores the `education`\n",
    "*vector*.  A vector is a sequence of values — in this case, the sequence of 15\n",
    "`education` scores, one for each occupation.  In Numpy terms, a vector is a one-dimensional array.  Similarly, we have a `prestige`\n",
    "vector of 15 values.\n",
    "\n",
    "You can think of \"vector\" as a mathematical term - we can represent a vector in\n",
    "python in various ways. In the dataframe above, each vector is represented as a pandas column,\n",
    "but when we stored them as separate variables, we represented each vector as a numpy array."
   ]
  },
  {
   "cell_type": "code",
   "execution_count": 7,
   "id": "7f3687c9",
   "metadata": {},
   "outputs": [
    {
     "data": {
      "text/plain": [
       "array([ 86,  76,  92,  90,  86,  84,  93, 100,  87,  86,  74,  98,  97,\n",
       "        84,  91])"
      ]
     },
     "execution_count": 7,
     "metadata": {},
     "output_type": "execute_result"
    }
   ],
   "source": [
    "# the education vector\n",
    "education"
   ]
  },
  {
   "cell_type": "code",
   "execution_count": 8,
   "id": "4a5030c2",
   "metadata": {},
   "outputs": [
    {
     "data": {
      "text/plain": [
       "array([82, 83, 90, 76, 90, 87, 93, 90, 52, 88, 57, 89, 97, 59, 73])"
      ]
     },
     "execution_count": 8,
     "metadata": {},
     "output_type": "execute_result"
    }
   ],
   "source": [
    "# the prestige vector \n",
    "prestige"
   ]
  },
  {
   "cell_type": "code",
   "execution_count": 9,
   "id": "698b8d33",
   "metadata": {},
   "outputs": [
    {
     "data": {
      "text/html": [
       "<div>\n",
       "<style scoped>\n",
       "    .dataframe tbody tr th:only-of-type {\n",
       "        vertical-align: middle;\n",
       "    }\n",
       "\n",
       "    .dataframe tbody tr th {\n",
       "        vertical-align: top;\n",
       "    }\n",
       "\n",
       "    .dataframe thead th {\n",
       "        text-align: right;\n",
       "    }\n",
       "</style>\n",
       "<table border=\"1\" class=\"dataframe\">\n",
       "  <thead>\n",
       "    <tr style=\"text-align: right;\">\n",
       "      <th></th>\n",
       "      <th>education</th>\n",
       "      <th>prestige</th>\n",
       "    </tr>\n",
       "  </thead>\n",
       "  <tbody>\n",
       "    <tr>\n",
       "      <th>0</th>\n",
       "      <td>86</td>\n",
       "      <td>82</td>\n",
       "    </tr>\n",
       "    <tr>\n",
       "      <th>1</th>\n",
       "      <td>76</td>\n",
       "      <td>83</td>\n",
       "    </tr>\n",
       "    <tr>\n",
       "      <th>2</th>\n",
       "      <td>92</td>\n",
       "      <td>90</td>\n",
       "    </tr>\n",
       "    <tr>\n",
       "      <th>3</th>\n",
       "      <td>90</td>\n",
       "      <td>76</td>\n",
       "    </tr>\n",
       "    <tr>\n",
       "      <th>4</th>\n",
       "      <td>86</td>\n",
       "      <td>90</td>\n",
       "    </tr>\n",
       "    <tr>\n",
       "      <th>5</th>\n",
       "      <td>84</td>\n",
       "      <td>87</td>\n",
       "    </tr>\n",
       "    <tr>\n",
       "      <th>6</th>\n",
       "      <td>93</td>\n",
       "      <td>93</td>\n",
       "    </tr>\n",
       "    <tr>\n",
       "      <th>7</th>\n",
       "      <td>100</td>\n",
       "      <td>90</td>\n",
       "    </tr>\n",
       "    <tr>\n",
       "      <th>8</th>\n",
       "      <td>87</td>\n",
       "      <td>52</td>\n",
       "    </tr>\n",
       "    <tr>\n",
       "      <th>9</th>\n",
       "      <td>86</td>\n",
       "      <td>88</td>\n",
       "    </tr>\n",
       "    <tr>\n",
       "      <th>10</th>\n",
       "      <td>74</td>\n",
       "      <td>57</td>\n",
       "    </tr>\n",
       "    <tr>\n",
       "      <th>11</th>\n",
       "      <td>98</td>\n",
       "      <td>89</td>\n",
       "    </tr>\n",
       "    <tr>\n",
       "      <th>12</th>\n",
       "      <td>97</td>\n",
       "      <td>97</td>\n",
       "    </tr>\n",
       "    <tr>\n",
       "      <th>13</th>\n",
       "      <td>84</td>\n",
       "      <td>59</td>\n",
       "    </tr>\n",
       "    <tr>\n",
       "      <th>14</th>\n",
       "      <td>91</td>\n",
       "      <td>73</td>\n",
       "    </tr>\n",
       "  </tbody>\n",
       "</table>\n",
       "</div>"
      ],
      "text/plain": [
       "    education  prestige\n",
       "0          86        82\n",
       "1          76        83\n",
       "2          92        90\n",
       "3          90        76\n",
       "4          86        90\n",
       "5          84        87\n",
       "6          93        93\n",
       "7         100        90\n",
       "8          87        52\n",
       "9          86        88\n",
       "10         74        57\n",
       "11         98        89\n",
       "12         97        97\n",
       "13         84        59\n",
       "14         91        73"
      ]
     },
     "execution_count": 9,
     "metadata": {},
     "output_type": "execute_result"
    }
   ],
   "source": [
    "# both vectors in the dataframe\n",
    "df[['education', 'prestige']]"
   ]
  },
  {
   "cell_type": "markdown",
   "id": "4bdadc03",
   "metadata": {},
   "source": [
    "## Predictors, outcomes - x, y, slope and intercept\n",
    "\n",
    "Typically in regression modelling we treat one variable as the\n",
    "*outcome variable* - which means we ask how it changes *as a function of* \n",
    "the other variable(s) in the dataset. Just to clarify, \"changes\" here refers to\n",
    "comparisons between different observational units. In the current dataset\n",
    "our observational units are occupations. For example, we might use `prestige` as our outcome variable, and ask how it changes *as a function of* the `education` scores. \n",
    "\n",
    "*Predictor variables* are variables with which we seek to explain patterns\n",
    "in the outcome variable. In the present case we are treating `education` as\n",
    "our predictor variable. We are asking how `prestige` (our outcome variable* varies as a function of `education` (our predictor variable).  We might suspect,\n",
    "for instance, that occupations scoring higher on `education` are more prestigious.\n",
    "\n",
    "The three graphs below illustrate this concept, in the\n",
    "context of linear regression, using some simulated data. You can think\n",
    "of this as showing you some potential ways the relationship between our \n",
    "predictor (`education`) and our outcome (`prestige`) *could* look:"
   ]
  },
  {
   "cell_type": "code",
   "execution_count": 10,
   "id": "75b3ac23",
   "metadata": {},
   "outputs": [
    {
     "data": {
      "image/png": "[encoded data removed]",
      "text/plain": [
       "<Figure size 1800x400 with 3 Axes>"
      ]
     },
     "metadata": {},
     "output_type": "display_data"
    }
   ],
   "source": [
    "# do not worry about this code, it just generates the illustration below\n",
    "rng = np.random.default_rng(seed=10)  # Make random numbers predictable.\n",
    "plt.figure(figsize = (18,4))\n",
    "\n",
    "plt.subplot(1,5, 2)\n",
    "y_strong_neg = -0.6 * education + rng.normal(0, 5, size = len(education))\n",
    "plt.scatter(education, y_strong_neg, marker = \"x\", color = \"purple\", label = 'simulated data')\n",
    "lin1 = sps.linregress(education, y_strong_neg)\n",
    "education_x = np.linspace(education.min(), education.max(), 50)\n",
    "plt.scatter(education_x, lin1.intercept + lin1.slope *education_x, color = 'darkred')\n",
    "plt.xticks([])\n",
    "plt.yticks([])\n",
    "plt.xlabel(\"Education\")\n",
    "plt.ylabel(\"Prestige\")\n",
    "plt.title('Strong Negative \\n Linear Relationship')\n",
    "\n",
    "plt.subplot(1,5, 3)\n",
    "y_rand = rng.normal(0, 5, size = len(education))\n",
    "plt.scatter(education, y_rand, marker = \"x\", color = \"purple\", label = 'simulated data')\n",
    "lin2 = sps.linregress(education, y_rand)\n",
    "plt.scatter(education_x, lin2.intercept + lin2.slope *education_x, color = 'darkred')\n",
    "plt.xticks([])\n",
    "plt.yticks([])\n",
    "plt.xlabel(\"Education\")\n",
    "plt.ylabel(\"Prestige\")\n",
    "plt.title('Very Weak Linear Relationship \\n (Random Association)')\n",
    "\n",
    "plt.subplot(1,5, 4)\n",
    "y_strong_pos = education + rng.normal(0, 5, size = len(education))\n",
    "plt.scatter(education, y_strong_pos, marker = \"x\", color = \"purple\", label = 'simulated data' )\n",
    "lin3 = sps.linregress(education, y_strong_pos)\n",
    "plt.scatter(education_x, lin3.intercept + lin3.slope *education_x, color = 'darkred', label = \"linear regression line\")\n",
    "plt.xticks([])\n",
    "plt.yticks([])\n",
    "plt.xlabel(\"Education\")\n",
    "plt.ylabel(\"Prestige\")\n",
    "plt.title('Strong Positive \\n Linear Relationship')\n",
    "\n",
    "plt.legend(bbox_to_anchor = (1, 1));"
   ]
  },
  {
   "cell_type": "markdown",
   "id": "d8aa70ef",
   "metadata": {},
   "source": [
    "On each graph, the predictor variable (`education`) is on the x-axis, and the linear regression line (in dark red) summarizes how the outcome variable (`prestige`, on the y-axis) changes as a function of the predictor variable.\n",
    "\n",
    "If the relationship between the predictor variable and the outcome variable is *strong*,\n",
    "then the values of the outcome variable change a lot between low and high values of the predictor variable.\n",
    "In this case the linear regression line will be *steep*.\n",
    "\n",
    "If the relationship between the predictor variable and the outcome variable is *weak*,\n",
    "then the values of the outcome variable are very similar between low and high values of the predictor variable.\n",
    "In this case the linear regression line will be *flat*. E.g. the scores on the predictor variable, do\n",
    "not give you much information about the scores on the outcome variable. High scores on the predictor variable\n",
    "are equally likely to co-occur with high or low scores on the outcome variable.\n",
    "\n",
    "We are calling the `education` vector a *predictor variable*, but other names for a\n",
    "predicting vector are *regressor*, *covariate*, *explanatory variable*,\n",
    "*independent variable*, *exogenous variable*, *feature* or `x` variable. (They all mean the same thing,\n",
    "and people from different disciplines typically use different terms, depending\n",
    "on the conventions of their discipline, so it's important to be aware of the\n",
    "different terminology). \n",
    "\n",
    "We are calling the `prestige` vector an *outcome variable* but other terms we could use\n",
    "include *predicted variable*, *response variable*, *regressand*, *dependent variable*, *endogenous\n",
    "variable* or the `y` variable. (Again, people from different disciplines typically use different terms,\n",
    "but they mean the same thing).\n",
    "\n",
    "We can use the mathematical notation $\\vec{x}$ to refer to a predicting vector.  The arrow over\n",
    "the top of $\\vec{x}$ reminds us that $\\vec{x}$ refers to a vector (array, sequence)\n",
    "of values, rather than a single value.\n",
    "\n",
    "We can use the mathematical notation $\\vec{y}$ to refer\n",
    "to an outcome vector (which, again is a  vector (array, sequence) of values, rather than a single value).\n",
    "\n",
    "Earlier we said we were plotting `prestige` *as a function of* `education`. Linear regression\n",
    "involves a more specific version of this concept. When we use linear regression, we\n",
    "are modelling our outcome vector $\\vec{y}$ *as a **linear** function of* our predictor vector $\\vec{x}$.  Linear means that we will predict our $\\vec{y}$ variables with a straight line and our $\\vec{x}$ values.\n",
    "\n",
    "So if we use linear regression, with `education` as our predictor variable, and `prestige`\n",
    "as our outcome variable, then we are modelling `prestige` *as a **linear** function of* `education`. \n",
    "\n",
    "Remember, we can define any straight line with a slope - call this $b$ - and an intercept - call this $c$.\n",
    "\n",
    "We can express the idea of straight-line (linear) prediction in vector notation with:\n",
    "\n",
    "$ \\vec{y} = b \\vec{x} + \\text{c} + \\vec{\\varepsilon} $\n",
    "\n",
    "Read this as \"the $y$ vector is a linear function of the $x$ vector plus the intercept ($c$) and the error vector $\\vec{\\varepsilon}$\".\n",
    "\n",
    "For this formula, $\\vec{y} = b \\vec{x} + \\text{c}$ is called the *systematic component* - it\n",
    "describes the linear relationship between $\\vec{x}$ and $\\vec{y}$. $b$ is a single value\n",
    "(called the *slope*) which describes the strength of the relationship - because high values for $b$ mean a steep slope. The values in the predictor vector\n",
    "$\\vec{x}$ are multiplied by $b$ - if the linear relationship between $\\vec{x}$ and $\\vec{y}$ \n",
    "is *strong* then the value of $b$ will be *large*; if the linear relationship between $\\vec{x}$ and $\\vec{y}$ \n",
    "is *weak* then the value of $b$ will be *small*. \n",
    "\n",
    "*Note*: $b \\vec{x} $ is read as \"$b$ multiplied by $\\vec{x}$\". By convention, we don't \n",
    "normally write the multiplication symbol (we assume that if no other symbol is there,\n",
    "then the values / vectors should be multiplied). But if we did want to write the multiplication explicitly, we could write $b * \\vec{x} $.\n",
    "\n",
    "The intercept $c$ (also called the *constant*) allows the line we fit to be more flexible than\n",
    "it would be if we don't include an intercept. Essentially, without an intercept in the model, then\n",
    "any line we fit has to run through the origin (the point at $x = 0, y = 0$), which is very\n",
    "restrictive - without the intercept we can only fit a small subset of the possible lines which exist - and\n",
    "these may not fit the data we have very well. Have a look at [this page](https://uob-ds.github.io/cfd2021/mean-slopes/Lines_Slopes_and_Intercepts_-_Refresher.html) for more about the intercept and the origin.\n",
    "\n",
    "The error vector $\\vec{\\varepsilon}$ describes the \"noise\" in the data - residual variation which \n",
    "is not explained by the systematic component. A good way to think of it is this: the systematic component\n",
    "describes the line which best fits the data. Unless the model is perfect, the datapoints themselves are very unlikely to\n",
    "fall perfectly on this line - the error vector contains the distance that each point is from the\n",
    "best-fitting line. Resultantly, the error vector will contain the same number of values as the\n",
    "predictor vector and the outcome vector (in this case, 15 values). (This concept is much easier to\n",
    "appreciate graphically, as we will see in a moment).\n",
    "\n",
    "Remember, in this case $\\vec{x}$ is our `education` vector (predictor), and $\\vec{y}$ is our `prestige` vector (outcome). Just to emphasise that $\\vec{x}$ and $\\vec{y}$ contain our data, the code cell below uses some fancy printing functions to show you the equations above, but will show our actual data values in $\\vec{x}$ and $\\vec{y}$, in place of the symbols. This means that the actual values within the `education` vector and the `prestige` vector are shown, alongside the notation for the $b$ value, the intercept $c$, and the error vector $\\vec{\\varepsilon}$:"
   ]
  },
  {
   "cell_type": "code",
   "execution_count": 11,
   "id": "0a5ad40e",
   "metadata": {},
   "outputs": [
    {
     "data": {
      "text/markdown": [
       "Here is the our model ($ \\vec{y} = b \\vec{x} + \\text{c} + \\vec{\\varepsilon} $), showing the actual values within the `education` and `prestige` vectors:"
      ],
      "text/plain": [
       "<IPython.core.display.Markdown object>"
      ]
     },
     "metadata": {},
     "output_type": "display_data"
    },
    {
     "data": {
      "text/markdown": [
       "$\\begin{bmatrix}{} 82 \\\\ 83 \\\\ 90 \\\\ 76 \\\\ 90 \\\\ 87 \\\\ 93 \\\\ 90 \\\\ 52 \\\\ 88 \\\\ 57 \\\\ 89 \\\\ 97 \\\\ 59 \\\\ 73 \\\\ \\end{bmatrix} = b * \\begin{bmatrix}{} 86 \\\\ 76 \\\\ 92 \\\\ 90 \\\\ 86 \\\\ 84 \\\\ 93 \\\\ 100 \\\\ 87 \\\\ 86 \\\\ 74 \\\\ 98 \\\\ 97 \\\\ 84 \\\\ 91 \\\\ \\end{bmatrix} + c + \\vec{\\varepsilon}$"
      ],
      "text/plain": [
       "<IPython.core.display.Markdown object>"
      ]
     },
     "metadata": {},
     "output_type": "display_data"
    }
   ],
   "source": [
    "# do not worry about this code, it just prints the mathematical notation below this cell\n",
    "jupyprint(\"Here is the our model ($ \\\\vec{y} = b \\\\vec{x} + \\\\text{c} + \\\\vec{\\\\varepsilon} $), showing the actual values within the `education` and `prestige` vectors:\")\n",
    "jupyprint(f\"${arraytex(np.atleast_2d(prestige).T)} = b * {arraytex(np.atleast_2d(education).T)} + c +\" +\" \\\\vec{\\\\varepsilon}$\")"
   ]
  },
  {
   "cell_type": "markdown",
   "id": "255c5a48",
   "metadata": {},
   "source": [
    "Just to convince you that these values are from the `education` vector and the `prestige`\n",
    "vector, here are both vectors, in their numpy array form (have a look at the values,\n",
    "and compare these to the values in the vectors shown in the mathematical notation above this cell):"
   ]
  },
  {
   "cell_type": "code",
   "execution_count": 12,
   "id": "ffd6053c",
   "metadata": {},
   "outputs": [
    {
     "data": {
      "text/plain": [
       "array([82, 83, 90, 76, 90, 87, 93, 90, 52, 88, 57, 89, 97, 59, 73])"
      ]
     },
     "execution_count": 12,
     "metadata": {},
     "output_type": "execute_result"
    }
   ],
   "source": [
    "# the prestige vector (again)\n",
    "prestige"
   ]
  },
  {
   "cell_type": "code",
   "execution_count": 13,
   "id": "2c2f6f75",
   "metadata": {},
   "outputs": [
    {
     "data": {
      "text/plain": [
       "array([ 86,  76,  92,  90,  86,  84,  93, 100,  87,  86,  74,  98,  97,\n",
       "        84,  91])"
      ]
     },
     "execution_count": 13,
     "metadata": {},
     "output_type": "execute_result"
    }
   ],
   "source": [
    "# the education vector (again)\n",
    "education"
   ]
  },
  {
   "cell_type": "markdown",
   "id": "f532cf3b",
   "metadata": {},
   "source": [
    "So just to recap, our linear regression model can be expressed in vector notation as:\n",
    "\n",
    "$ \\vec{y} = b \\vec{x} + \\text{c} + \\vec{\\varepsilon} $\n",
    "\n",
    "Where:\n",
    "\n",
    "$\\vec{y}$ is our outcome vector, in this case `prestige`\n",
    "\n",
    "\n",
    "$\\vec{x}$ is our predictor vector, in this case `education`\n",
    "\n",
    "If we wish, we can write the model equation using the names of our vectors rather than the vector notation:\n",
    "\n",
    "`prestige` $ = b $ `education` $+$ $  \\text{c} + \\vec{\\varepsilon} $\n",
    "\n",
    "$b$ is a value (called the \"slope\") which summarizes the strength of the (linear) predictive relationship between our predictor vector and our outcome vector. Each value in the predictor vector gets *multiplied* by $b$\n",
    "\n",
    "$\\text{c}$ is the intercept, which gives a greater flexibility in the lines we can fit (it means they do not have to pass through the origin, which would really limit our modelling ability)\n",
    "\n",
    "$\\vec{\\varepsilon}$ is the error vector, which contains the distance between each datapoint and the line of best fit\n",
    "\n",
    "The talk of \"predictve relationships\" and \"error\" all might sound somewhat abstract, so let's explore\n",
    "what the terms mean graphically.\n",
    "\n",
    "The cell below defines a function which generates some simulated `prestige` scores. It\n",
    "does this by letting you set the value of $b$ and control the size of the errors in the error vector $\\vec{\\varepsilon}$. This lets you \"play god\" and control the strength of the predictive relationship between `education` and `prestige`, as well as  the amount of error (or \"noise\") in the data. Run the cell to define the function:"
   ]
  },
  {
   "cell_type": "code",
   "execution_count": 14,
   "id": "e760c868",
   "metadata": {},
   "outputs": [],
   "source": [
    "# do not worry about the details of this function, it is just to generate the illustrative plot\n",
    "def linear_data_generator(b_value, error_size):\n",
    "    \"\"\"Generate simulated data with a linear relationship.\"\"\"\n",
    "\n",
    "    # the education values as the x values\n",
    "    x = education\n",
    "    \n",
    "    # generate the error vector\n",
    "    e = rng.normal(0, error_size, size = len(x))\n",
    "\n",
    "    # generate the y vector\n",
    "    y = b_value*x + e\n",
    "\n",
    "    # plot the simulated data\n",
    "    plt.scatter(x, y, color = 'purple', marker = 'x', label = \"Simulated Data\")\n",
    "    plt.xlabel(\"Education\")\n",
    "    plt.ylabel(\"Simulated Prestige Values\")\n",
    "    plt.title(f'b_value = {b_value},\\n error_size = {error_size}')\n",
    "    plt.legend()"
   ]
  },
  {
   "cell_type": "markdown",
   "id": "d6a12efd",
   "metadata": {},
   "source": [
    "If you are using this page interactively, then try varying the values of $b$ and\n",
    "$\\varepsilon$ (which in the code are called `b_value` and `error_size`), \n",
    "to see what effect they have.\n",
    "\n",
    "Initially, we have set `error_size` to equal 0. This means there is no\n",
    "noise in the data, and the relationship between $\\vec{x}$ and $\\vec{y}$\n",
    "is perfectly described by $b$. You can see that this means the points\n",
    "fall perfectly on a straight line:"
   ]
  },
  {
   "cell_type": "code",
   "execution_count": 15,
   "id": "4156e909",
   "metadata": {},
   "outputs": [
    {
     "data": {
      "image/png": "[encoded data removed]",
      "text/plain": [
       "<Figure size 640x480 with 1 Axes>"
      ]
     },
     "metadata": {},
     "output_type": "display_data"
    }
   ],
   "source": [
    "# generate some simulated data to investigate the effect of the b value\n",
    "# and smaller/larger error values\n",
    "linear_data_generator(b_value = 1, error_size = 0)"
   ]
  },
  {
   "cell_type": "markdown",
   "id": "8e2cdd02",
   "metadata": {},
   "source": [
    "We would almost never observe such a perfect predictive relationship in real life.\n",
    "It would mean that all of the variation in the outcome variable would be perfectly captured\n",
    "by the systematic component ($\\vec{y} = b \\vec{x} + \\text{c} $) if we  were to fit a linear\n",
    "regression model to the data.\n",
    "\n",
    "We can see that if we make the error term larger, as in the cell below, then the points\n",
    "are now spread much more randomly:"
   ]
  },
  {
   "cell_type": "code",
   "execution_count": 16,
   "id": "bba72cbd",
   "metadata": {},
   "outputs": [
    {
     "data": {
      "image/png": "[encoded data removed]",
      "text/plain": [
       "<Figure size 640x480 with 1 Axes>"
      ]
     },
     "metadata": {},
     "output_type": "display_data"
    }
   ],
   "source": [
    "# generate some more simulated data to investigate the effect of the b value\n",
    "# and smaller/larger error values\n",
    "linear_data_generator(b_value = 1, error_size = 50)"
   ]
  },
  {
   "cell_type": "markdown",
   "id": "d5ea3414",
   "metadata": {},
   "source": [
    "*Note: these plots are just to illustrate the effect of the $b$ value and the concept\n",
    "of errors. Negative prestige scores are not possible, in the actual data.*\n",
    "\n",
    "As mentioned above, you can think of $b$ as describing the strength of the systematic, linear\n",
    "relationship between $\\vec{x}$ and $\\vec{y}$. And you can think of $\\vec{\\varepsilon}$\n",
    "as describing the variation left in the data that is not accounted for by\n",
    "$b$.\n",
    "\n",
    "The task of linear regression is to find the values of $b$ and $c$ which give the\n",
    "best summary of the linear predictive relationship between our predictor variable\n",
    "and our outcome variable. \"Best\" here is judged by finding the smallest sum of the\n",
    "squared error values (i.e. the values in the error vector $\\vec{\\varepsilon}$).\n",
    "\n",
    "Let's perform a linear regression on Duncan's occupational prestige data, to show\n",
    "the concepts behind the notation we've just outlined.\n",
    "\n",
    "Just to remind us, let's give the name `x` to the array (vector) of predicting `education` values ($\\vec{x}$):"
   ]
  },
  {
   "cell_type": "code",
   "execution_count": 17,
   "id": "da90347c",
   "metadata": {},
   "outputs": [],
   "source": [
    "x = education"
   ]
  },
  {
   "cell_type": "markdown",
   "id": "9b893ec9",
   "metadata": {},
   "source": [
    "Let's give the name `y` to our outcome vector ($\\vec{y}$, the `prestige` vector):"
   ]
  },
  {
   "cell_type": "code",
   "execution_count": 18,
   "id": "23671660",
   "metadata": {},
   "outputs": [],
   "source": [
    "y = prestige"
   ]
  },
  {
   "cell_type": "markdown",
   "id": "ebf8e8e3",
   "metadata": {},
   "source": [
    "We want to calculate the best (minimal sum of the squared errors) line that relates\n",
    "the `education` (`x`) scores to the `prestige` (`y`) scores.\n",
    "\n",
    "We could use `scipy.optimize.minimize` for this, but here we will  quickly fit a linear regression model to these vectors using the `linregress` function\n",
    "from the `scipy.stats` package:"
   ]
  },
  {
   "cell_type": "code",
   "execution_count": 19,
   "id": "785f5308",
   "metadata": {},
   "outputs": [
    {
     "data": {
      "text/plain": [
       "LinregressResult(slope=1.0058545962950014, intercept=-8.383432366305456, rvalue=0.5267822840376757, pvalue=0.04363617869770525, stderr=0.4501439537539412, intercept_stderr=39.8621893783399)"
      ]
     },
     "execution_count": 19,
     "metadata": {},
     "output_type": "execute_result"
    }
   ],
   "source": [
    "# fit a linear regression model, using scipy\n",
    "res = sps.linregress(x, y)\n",
    "res"
   ]
  },
  {
   "cell_type": "markdown",
   "id": "23f65ece",
   "metadata": {},
   "source": [
    "Let's call the slope of the line `b` and the intercept `c` (C for Constant)."
   ]
  },
  {
   "cell_type": "code",
   "execution_count": 20,
   "id": "64078980",
   "metadata": {
    "lines_to_next_cell": 2
   },
   "outputs": [],
   "source": [
    "# store the slope (b) and the intercept (c) as separate variables\n",
    "b = res.slope\n",
    "c = res.intercept"
   ]
  },
  {
   "cell_type": "code",
   "execution_count": 21,
   "id": "fb2c805d",
   "metadata": {},
   "outputs": [
    {
     "data": {
      "text/plain": [
       "1.0058545962950014"
      ]
     },
     "execution_count": 21,
     "metadata": {},
     "output_type": "execute_result"
    }
   ],
   "source": [
    "# show the value of b, from the Duncan data\n",
    "b"
   ]
  },
  {
   "cell_type": "code",
   "execution_count": 22,
   "id": "becfd035",
   "metadata": {},
   "outputs": [
    {
     "data": {
      "text/plain": [
       "-8.383432366305456"
      ]
     },
     "execution_count": 22,
     "metadata": {},
     "output_type": "execute_result"
    }
   ],
   "source": [
    "# show the value of the intercept, from the Duncan data\n",
    "c"
   ]
  },
  {
   "cell_type": "markdown",
   "id": "c893789a",
   "metadata": {},
   "source": [
    "These values (of $b$ and $c$) are called the *parameter estimates* of our linear regression model. To recap, the *slope* $b$ describes the strength and direction of the linear predictive relationship between `education` and `prestige`, and the *intercept* $c$ describes  where our linear regression line crosses the y axis (as mentioned above, including the intercept lets us model a greater variety of linear trends).\n",
    "\n",
    "$b$ can be interpreted as the expected change in `prestige` if we compared two observational units which\n",
    "differed only by 1 point of `education`.\n",
    "\n",
    "So, based on the linear relationship in the data, if the scores of two occupations differ by 1 point of `education`, we would expect the difference in their `prestige` scores to be 1.006 points. (\"Points\" is a generic term, the meaning in this context is shown below):\n",
    "\n",
    "`education` - percentage of census respondents in the occupation who were high school graduates (each \"point\" is a percentage point)\n",
    "\n",
    "`prestige` - percentage of respondents in the NORC survey who rated the occupation as “good” or better in prestige (each \"point\" is a percentage point)"
   ]
  },
  {
   "cell_type": "markdown",
   "id": "3ec6acae",
   "metadata": {},
   "source": [
    "## Fitted values and errors\n",
    "\n",
    "Obtaining the parameter estimates is called *fitting* a regression model. The parameter estimates then give us *fitted values*. There are a few ways to think about the fitted values. The fitted values are the values generated\n",
    "by the systematic component of our model ($\\vec{y} = b \\vec{x} + \\text{c}$). As such they all fall on a straight line,\n",
    "and give us a summary of the linear trend in the data. You can think of them as our summary of the linear trend, when\n",
    "we ignore the noise in the actual data. Again, these concepts are easier to understand graphically. The graph below shows the original data (in blue) alongside the fitted values (in red):"
   ]
  },
  {
   "cell_type": "code",
   "execution_count": 23,
   "id": "f0158f2b",
   "metadata": {},
   "outputs": [
    {
     "data": {
      "image/png": "[encoded data removed]",
      "text/plain": [
       "<Figure size 640x480 with 1 Axes>"
      ]
     },
     "metadata": {},
     "output_type": "display_data"
    }
   ],
   "source": [
    "# do not worry about this code, it is just a convenience function to plot the data\n",
    "def make_scatter(with_errors = False, show = False):\n",
    "    plt.scatter(x, y, label='Actual values ($y$)')\n",
    "    # plot the predicted values\n",
    "    fitted = b * x + c\n",
    "    plt.plot(x, fitted, 'ro', label='Fitted values from linear regression ($\\hat{y}$)')\n",
    "    if with_errors == True:\n",
    "        # plot the distance between predicted and actual, for all points.\n",
    "        n = len(x)\n",
    "        for i in range(n):\n",
    "            plt.plot([x[i], x[i]], [fitted[i], y[i]], 'k:')\n",
    "        # the following code line is just to trick Matplotlib into making a new\n",
    "        # a single legend entry for the dotted lines.\n",
    "        plt.plot([], [], 'k:', label='Errors ($ \\\\varepsilon $)')\n",
    "    plt.xlabel('Education')\n",
    "    plt.ylabel('Prestige')\n",
    "    # show the legend\n",
    "    plt.legend();\n",
    "    if show == True:\n",
    "        plt.show()\n",
    "# generate the plot    \n",
    "make_scatter()"
   ]
  },
  {
   "cell_type": "markdown",
   "id": "421d9af9",
   "metadata": {},
   "source": [
    "Remember, our *fitted* values are given by multiplying the `x`\n",
    "(`education`) values by `b` (the slope) and then adding `c` (the intercept).  In\n",
    "Numpy that looks like this:"
   ]
  },
  {
   "cell_type": "code",
   "execution_count": 24,
   "id": "a4f05835",
   "metadata": {},
   "outputs": [
    {
     "data": {
      "text/plain": [
       "array([78.120063, 68.061517, 84.15519 , 82.143481, 78.120063, 76.108354,\n",
       "       85.161045, 92.202027, 79.125918, 78.120063, 66.049808, 90.190318,\n",
       "       89.184463, 76.108354, 83.149336])"
      ]
     },
     "execution_count": 24,
     "metadata": {},
     "output_type": "execute_result"
    }
   ],
   "source": [
    "fitted = b * x + c\n",
    "fitted"
   ]
  },
  {
   "cell_type": "markdown",
   "id": "76aeecb9",
   "metadata": {},
   "source": [
    "Typically, we use the \"hat\" notation to refer to the fitted values. So the\n",
    "vector of fitted values we would denote with $\\vec{\\hat{y}}$. The $\\hat{ }$ over the $y$\n",
    "is called the \"hat\". \n",
    "\n",
    "Because our fitted values give us a summary of the linear predictive relationship\n",
    "between $\\vec{x}$ and $\\vec{y}$, minus the noise/randomness in the actual data, we\n",
    "can write the equation for the fitted values as:\n",
    "\n",
    "$\\vec{\\hat{y}} = b \\vec{x} + \\text{c}$\n",
    "\n",
    "This is the same as the equation for our full model, but without the error vector $\\vec{\\varepsilon}$:\n",
    "\n",
    "$ \\vec{y} = b \\vec{x} + \\text{c} + \\vec{\\varepsilon} $\n",
    "\n",
    "The *errors* are the differences between the *fitted* and *actual* (`y`) values:"
   ]
  },
  {
   "cell_type": "code",
   "execution_count": 25,
   "id": "e8b9a441",
   "metadata": {},
   "outputs": [
    {
     "data": {
      "text/plain": [
       "array([  3.879937,  14.938483,   5.84481 ,  -6.143481,  11.879937,\n",
       "        10.891646,   7.838955,  -2.202027, -27.125918,   9.879937,\n",
       "        -9.049808,  -1.190318,   7.815537, -17.108354, -10.149336])"
      ]
     },
     "execution_count": 25,
     "metadata": {},
     "output_type": "execute_result"
    }
   ],
   "source": [
    "errors = y - fitted\n",
    "errors"
   ]
  },
  {
   "cell_type": "markdown",
   "id": "bb20e55c",
   "metadata": {},
   "source": [
    "The dashed lines in the plot below represent the *errors*.  The values in the `errors` vector\n",
    "above represent the (positive and negative) lengths of these dashed lines."
   ]
  },
  {
   "cell_type": "code",
   "execution_count": 26,
   "id": "a922a0c6",
   "metadata": {},
   "outputs": [
    {
     "data": {
      "image/png": "[encoded data removed]",
      "text/plain": [
       "<Figure size 640x480 with 1 Axes>"
      ]
     },
     "metadata": {},
     "output_type": "display_data"
    }
   ],
   "source": [
    "# plot the data and fitted values (showing the errors)\n",
    "make_scatter(with_errors = True)"
   ]
  },
  {
   "cell_type": "markdown",
   "id": "ad36087a",
   "metadata": {},
   "source": [
    "\"Fitting\" a linear regression involves finding the parameter estimates (values of $b$ and $c$) which give fitted values that yield the smallest sum of the squared error values.  The error values are the values in $\\vec{\\varepsilon}$, or, equivalently, the black dashed lines on the graph above).\n",
    "\n",
    "Now is a good opportunity to pause, and compare the mathematical notation for the linear regression model\n",
    "with the graph above, to make sure you can relate the two perspectives (the mathematical perspective and\n",
    "the graphical perspective):\n",
    "\n",
    "Here is the equation for the fitted values (these are the red points on the graph above):\n",
    "\n",
    "$\\vec{\\hat{y}} = b \\vec{x} + \\text{c}$\n",
    "\n",
    "And here is the equation for the full model (these are the blue points on the graph above):\n",
    "\n",
    "$ \\vec{y} = b \\vec{x} + \\text{c} + \\vec{\\varepsilon} $"
   ]
  },
  {
   "cell_type": "markdown",
   "id": "f20181f6",
   "metadata": {},
   "source": [
    "## Mathematical notation\n",
    "\n",
    "Our next step is to write the values in $\\vec{x}$ and $\\vec{y}$ more generally and more formally in\n",
    "mathematical symbols, so we can think about *any* vector (sequence) of x values\n",
    "$\\vec{x}$, and any sequence (vector) of matching y values $\\vec{y}$.  But to start\n",
    "with, let's think about the actual set of values we have for $\\vec{x}$.  We could\n",
    "write the actual values in mathematical notation as:"
   ]
  },
  {
   "cell_type": "code",
   "execution_count": 27,
   "id": "07d101fb",
   "metadata": {
    "tags": [
     "hide-input"
    ]
   },
   "outputs": [
    {
     "data": {
      "text/markdown": [
       "$ \\vec{x} = \\begin{bmatrix}{} 86 \\\\ 76 \\\\ 92 \\\\ 90 \\\\ 86 \\\\ 84 \\\\ 93 \\\\ 100 \\\\ 87 \\\\ 86 \\\\ 74 \\\\ 98 \\\\ 97 \\\\ 84 \\\\ 91 \\\\ \\end{bmatrix}$"
      ],
      "text/plain": [
       "<IPython.core.display.Markdown object>"
      ]
     },
     "metadata": {},
     "output_type": "display_data"
    }
   ],
   "source": [
    "# do not worry about this code, it just generates the notation below\n",
    "jupyprint(\"$ \\\\vec{x} = \" + arraytex(np.atleast_2d(x).T)+\"$\" )"
   ]
  },
  {
   "cell_type": "code",
   "execution_count": 28,
   "id": "4b44a180",
   "metadata": {},
   "outputs": [
    {
     "data": {
      "text/plain": [
       "array([ 86,  76,  92,  90,  86,  84,  93, 100,  87,  86,  74,  98,  97,\n",
       "        84,  91])"
      ]
     },
     "execution_count": 28,
     "metadata": {},
     "output_type": "execute_result"
    }
   ],
   "source": [
    "# show the education vector, for comparison to the notation above\n",
    "education"
   ]
  },
  {
   "cell_type": "markdown",
   "id": "148fa534",
   "metadata": {},
   "source": [
    "This means that $\\vec{x}$ is a sequence of these specific 15 values.  But we\n",
    "could write $\\vec{x}$ in a more general way, to be *any* 15 values, like this:"
   ]
  },
  {
   "cell_type": "code",
   "execution_count": 29,
   "id": "6f29dbc3",
   "metadata": {
    "tags": [
     "hide-input"
    ]
   },
   "outputs": [
    {
     "data": {
      "text/markdown": [
       "$ \\vec{x} = \\begin{bmatrix}{} \\text{$x_{1}$} \\\\ \\text{$x_{2}$} \\\\ \\text{$x_{3}$} \\\\ \\text{$x_{4}$} \\\\ \\text{$x_{5}$} \\\\ \\text{$x_{6}$} \\\\ \\text{$x_{7}$} \\\\ \\text{$x_{8}$} \\\\ \\text{$x_{9}$} \\\\ \\text{$x_{10}$} \\\\ \\text{$x_{11}$} \\\\ \\text{$x_{12}$} \\\\ \\text{$x_{13}$} \\\\ \\text{$x_{14}$} \\\\ \\text{$x_{15}$} \\\\ \\end{bmatrix}$"
      ],
      "text/plain": [
       "<IPython.core.display.Markdown object>"
      ]
     },
     "metadata": {},
     "output_type": "display_data"
    }
   ],
   "source": [
    "# do not worry about this code, it just generates the notation below\n",
    "n = len(df)\n",
    "indices = np.arange(1, n + 1)\n",
    "x_is = np.array([f'$x_{{{i}}}$' for i in indices])\n",
    "jupyprint(\"$ \\\\vec{x} = \" + arraytex(np.atleast_2d(x_is).T, quote_strings = False, contains_latex=True)+\"$\" )"
   ]
  },
  {
   "cell_type": "markdown",
   "id": "ed021954",
   "metadata": {},
   "source": [
    "This means that $\\vec{x}$ consists of 15 numbers, $x_1, x_2 ..., x_{15}$, where\n",
    "$x_1$ can be any number, $x_2$ can be any number, and so on.\n",
    "\n",
    "$x_1$ is the value for the first occupation, $x_2$ is the value for the second occupation, etc.\n",
    "\n",
    "Here's another way of looking at the relationship of the values in our\n",
    "particular case, and their notation:"
   ]
  },
  {
   "cell_type": "code",
   "execution_count": 30,
   "id": "54a274f3",
   "metadata": {
    "tags": [
     "hide-input"
    ]
   },
   "outputs": [
    {
     "data": {
      "text/html": [
       "<div>\n",
       "<style scoped>\n",
       "    .dataframe tbody tr th:only-of-type {\n",
       "        vertical-align: middle;\n",
       "    }\n",
       "\n",
       "    .dataframe tbody tr th {\n",
       "        vertical-align: top;\n",
       "    }\n",
       "\n",
       "    .dataframe thead th {\n",
       "        text-align: right;\n",
       "    }\n",
       "</style>\n",
       "<table border=\"1\" class=\"dataframe\">\n",
       "  <thead>\n",
       "    <tr style=\"text-align: right;\">\n",
       "      <th></th>\n",
       "      <th>$\\vec{x}$ values</th>\n",
       "      <th>$x$ value notation</th>\n",
       "    </tr>\n",
       "    <tr>\n",
       "      <th>1-based index</th>\n",
       "      <th></th>\n",
       "      <th></th>\n",
       "    </tr>\n",
       "  </thead>\n",
       "  <tbody>\n",
       "    <tr>\n",
       "      <th>1</th>\n",
       "      <td>86</td>\n",
       "      <td>$$x_{1}$$</td>\n",
       "    </tr>\n",
       "    <tr>\n",
       "      <th>2</th>\n",
       "      <td>76</td>\n",
       "      <td>$$x_{2}$$</td>\n",
       "    </tr>\n",
       "    <tr>\n",
       "      <th>3</th>\n",
       "      <td>92</td>\n",
       "      <td>$$x_{3}$$</td>\n",
       "    </tr>\n",
       "    <tr>\n",
       "      <th>4</th>\n",
       "      <td>90</td>\n",
       "      <td>$$x_{4}$$</td>\n",
       "    </tr>\n",
       "    <tr>\n",
       "      <th>5</th>\n",
       "      <td>86</td>\n",
       "      <td>$$x_{5}$$</td>\n",
       "    </tr>\n",
       "    <tr>\n",
       "      <th>6</th>\n",
       "      <td>84</td>\n",
       "      <td>$$x_{6}$$</td>\n",
       "    </tr>\n",
       "    <tr>\n",
       "      <th>7</th>\n",
       "      <td>93</td>\n",
       "      <td>$$x_{7}$$</td>\n",
       "    </tr>\n",
       "    <tr>\n",
       "      <th>8</th>\n",
       "      <td>100</td>\n",
       "      <td>$$x_{8}$$</td>\n",
       "    </tr>\n",
       "    <tr>\n",
       "      <th>9</th>\n",
       "      <td>87</td>\n",
       "      <td>$$x_{9}$$</td>\n",
       "    </tr>\n",
       "    <tr>\n",
       "      <th>10</th>\n",
       "      <td>86</td>\n",
       "      <td>$$x_{10}$$</td>\n",
       "    </tr>\n",
       "    <tr>\n",
       "      <th>11</th>\n",
       "      <td>74</td>\n",
       "      <td>$$x_{11}$$</td>\n",
       "    </tr>\n",
       "    <tr>\n",
       "      <th>12</th>\n",
       "      <td>98</td>\n",
       "      <td>$$x_{12}$$</td>\n",
       "    </tr>\n",
       "    <tr>\n",
       "      <th>13</th>\n",
       "      <td>97</td>\n",
       "      <td>$$x_{13}$$</td>\n",
       "    </tr>\n",
       "    <tr>\n",
       "      <th>14</th>\n",
       "      <td>84</td>\n",
       "      <td>$$x_{14}$$</td>\n",
       "    </tr>\n",
       "    <tr>\n",
       "      <th>15</th>\n",
       "      <td>91</td>\n",
       "      <td>$$x_{15}$$</td>\n",
       "    </tr>\n",
       "  </tbody>\n",
       "</table>\n",
       "</div>"
      ],
      "text/plain": [
       "               $\\vec{x}$ values $x$ value notation\n",
       "1-based index                                     \n",
       "1                            86          $$x_{1}$$\n",
       "2                            76          $$x_{2}$$\n",
       "3                            92          $$x_{3}$$\n",
       "4                            90          $$x_{4}$$\n",
       "5                            86          $$x_{5}$$\n",
       "6                            84          $$x_{6}$$\n",
       "7                            93          $$x_{7}$$\n",
       "8                           100          $$x_{8}$$\n",
       "9                            87          $$x_{9}$$\n",
       "10                           86         $$x_{10}$$\n",
       "11                           74         $$x_{11}$$\n",
       "12                           98         $$x_{12}$$\n",
       "13                           97         $$x_{13}$$\n",
       "14                           84         $$x_{14}$$\n",
       "15                           91         $$x_{15}$$"
      ]
     },
     "execution_count": 30,
     "metadata": {},
     "output_type": "execute_result"
    }
   ],
   "source": [
    "# do not worry about this code, it just generates the dataframe below\n",
    "df_index = pd.Index(indices, name='1-based index')\n",
    "x_notation = pd.DataFrame(\n",
    "    {r'$\\vec{x}$ values': x,\n",
    "     f'$x$ value notation': \n",
    "     [f'${v}$' for v in x_is]\n",
    "    },\n",
    "    index=df_index\n",
    ")\n",
    "x_notation "
   ]
  },
  {
   "cell_type": "markdown",
   "id": "5776d1ad",
   "metadata": {},
   "source": [
    "You can see that the values in the \"$\\vec{x}$ values\" column, are the \n",
    "values in our predictor vector `education`:"
   ]
  },
  {
   "cell_type": "code",
   "execution_count": 31,
   "id": "350806ac",
   "metadata": {},
   "outputs": [
    {
     "data": {
      "text/plain": [
       "array([ 86,  76,  92,  90,  86,  84,  93, 100,  87,  86,  74,  98,  97,\n",
       "        84,  91])"
      ]
     },
     "execution_count": 31,
     "metadata": {},
     "output_type": "execute_result"
    }
   ],
   "source": [
    "# show the education values\n",
    "education"
   ]
  },
  {
   "cell_type": "markdown",
   "id": "3fe0cab8",
   "metadata": {},
   "source": [
    "The values in the \"$x$ value notation\" column show the general vector\n",
    "notation for these values (this notation applies to other $\\vec{x}$ vectors\n",
    "as well e.g. those from other datasets).\n",
    "\n",
    "We can make $\\vec{x}$ be even more general, by writing it like this:\n",
    "\n",
    "$$\n",
    "\\vec{x} = \\begin{bmatrix}\n",
    "           x_{1} \\\\\n",
    "           x_{2} \\\\\n",
    "           \\vdots \\\\\n",
    "           x_{n}\n",
    "         \\end{bmatrix}\n",
    "$$\n",
    "\n",
    "This means that $\\vec{x}$ is a sequence of any $n$ numbers, where $n$ can be any\n",
    "whole number, such as 1, 2, 3 ...  \n",
    "\n",
    "$n$ is the total number of datapoints,\n",
    "in our specific case, $n = 15$, because we have 15 datapoints. \n",
    "\n",
    "(This looks more\n",
    "complex than it is, the small numbers to the bottom right of the symbols (1, 2, 3 ... $n$)\n",
    "essentially just count the number of datapoints - these counters are called *subscripts*).\n",
    "\n",
    "Similarly, for our `prestige` ($\\vec{y}$) values, we can write:"
   ]
  },
  {
   "cell_type": "code",
   "execution_count": 32,
   "id": "57fe9136",
   "metadata": {
    "tags": [
     "hide-input"
    ]
   },
   "outputs": [
    {
     "data": {
      "text/markdown": [
       "$ \\vec{y} = \\begin{bmatrix}{} 82 \\\\ 83 \\\\ 90 \\\\ 76 \\\\ 90 \\\\ 87 \\\\ 93 \\\\ 90 \\\\ 52 \\\\ 88 \\\\ 57 \\\\ 89 \\\\ 97 \\\\ 59 \\\\ 73 \\\\ \\end{bmatrix}$"
      ],
      "text/plain": [
       "<IPython.core.display.Markdown object>"
      ]
     },
     "metadata": {},
     "output_type": "display_data"
    }
   ],
   "source": [
    "# do not worry about this code, it just generates the notation below\n",
    "jupyprint(\"$ \\\\vec{y} = \" + arraytex(np.atleast_2d(y).T)+\"$\" )"
   ]
  },
  {
   "cell_type": "code",
   "execution_count": 33,
   "id": "8ab558fc",
   "metadata": {},
   "outputs": [
    {
     "data": {
      "text/plain": [
       "array([82, 83, 90, 76, 90, 87, 93, 90, 52, 88, 57, 89, 97, 59, 73])"
      ]
     },
     "execution_count": 33,
     "metadata": {},
     "output_type": "execute_result"
    }
   ],
   "source": [
    "# show the prestige vector, for comparison to the notation above\n",
    "prestige"
   ]
  },
  {
   "cell_type": "code",
   "execution_count": 34,
   "id": "54d2ce56",
   "metadata": {
    "tags": [
     "hide-input"
    ]
   },
   "outputs": [
    {
     "data": {
      "text/html": [
       "<div>\n",
       "<style scoped>\n",
       "    .dataframe tbody tr th:only-of-type {\n",
       "        vertical-align: middle;\n",
       "    }\n",
       "\n",
       "    .dataframe tbody tr th {\n",
       "        vertical-align: top;\n",
       "    }\n",
       "\n",
       "    .dataframe thead th {\n",
       "        text-align: right;\n",
       "    }\n",
       "</style>\n",
       "<table border=\"1\" class=\"dataframe\">\n",
       "  <thead>\n",
       "    <tr style=\"text-align: right;\">\n",
       "      <th></th>\n",
       "      <th>$\\vec{y}$ values</th>\n",
       "      <th>$y$ value notation</th>\n",
       "    </tr>\n",
       "    <tr>\n",
       "      <th>1-based index</th>\n",
       "      <th></th>\n",
       "      <th></th>\n",
       "    </tr>\n",
       "  </thead>\n",
       "  <tbody>\n",
       "    <tr>\n",
       "      <th>1</th>\n",
       "      <td>82</td>\n",
       "      <td>$y_{1}$</td>\n",
       "    </tr>\n",
       "    <tr>\n",
       "      <th>2</th>\n",
       "      <td>83</td>\n",
       "      <td>$y_{2}$</td>\n",
       "    </tr>\n",
       "    <tr>\n",
       "      <th>3</th>\n",
       "      <td>90</td>\n",
       "      <td>$y_{3}$</td>\n",
       "    </tr>\n",
       "    <tr>\n",
       "      <th>4</th>\n",
       "      <td>76</td>\n",
       "      <td>$y_{4}$</td>\n",
       "    </tr>\n",
       "    <tr>\n",
       "      <th>5</th>\n",
       "      <td>90</td>\n",
       "      <td>$y_{5}$</td>\n",
       "    </tr>\n",
       "    <tr>\n",
       "      <th>6</th>\n",
       "      <td>87</td>\n",
       "      <td>$y_{6}$</td>\n",
       "    </tr>\n",
       "    <tr>\n",
       "      <th>7</th>\n",
       "      <td>93</td>\n",
       "      <td>$y_{7}$</td>\n",
       "    </tr>\n",
       "    <tr>\n",
       "      <th>8</th>\n",
       "      <td>90</td>\n",
       "      <td>$y_{8}$</td>\n",
       "    </tr>\n",
       "    <tr>\n",
       "      <th>9</th>\n",
       "      <td>52</td>\n",
       "      <td>$y_{9}$</td>\n",
       "    </tr>\n",
       "    <tr>\n",
       "      <th>10</th>\n",
       "      <td>88</td>\n",
       "      <td>$y_{10}$</td>\n",
       "    </tr>\n",
       "    <tr>\n",
       "      <th>11</th>\n",
       "      <td>57</td>\n",
       "      <td>$y_{11}$</td>\n",
       "    </tr>\n",
       "    <tr>\n",
       "      <th>12</th>\n",
       "      <td>89</td>\n",
       "      <td>$y_{12}$</td>\n",
       "    </tr>\n",
       "    <tr>\n",
       "      <th>13</th>\n",
       "      <td>97</td>\n",
       "      <td>$y_{13}$</td>\n",
       "    </tr>\n",
       "    <tr>\n",
       "      <th>14</th>\n",
       "      <td>59</td>\n",
       "      <td>$y_{14}$</td>\n",
       "    </tr>\n",
       "    <tr>\n",
       "      <th>15</th>\n",
       "      <td>73</td>\n",
       "      <td>$y_{15}$</td>\n",
       "    </tr>\n",
       "  </tbody>\n",
       "</table>\n",
       "</div>"
      ],
      "text/plain": [
       "               $\\vec{y}$ values $y$ value notation\n",
       "1-based index                                     \n",
       "1                            82            $y_{1}$\n",
       "2                            83            $y_{2}$\n",
       "3                            90            $y_{3}$\n",
       "4                            76            $y_{4}$\n",
       "5                            90            $y_{5}$\n",
       "6                            87            $y_{6}$\n",
       "7                            93            $y_{7}$\n",
       "8                            90            $y_{8}$\n",
       "9                            52            $y_{9}$\n",
       "10                           88           $y_{10}$\n",
       "11                           57           $y_{11}$\n",
       "12                           89           $y_{12}$\n",
       "13                           97           $y_{13}$\n",
       "14                           59           $y_{14}$\n",
       "15                           73           $y_{15}$"
      ]
     },
     "execution_count": 34,
     "metadata": {},
     "output_type": "execute_result"
    }
   ],
   "source": [
    "# do not worry about this code, it just generates the dataframe below\n",
    "y_notation = pd.DataFrame(\n",
    "    {r'$\\vec{y}$ values': y,\n",
    "     f'$y$ value notation': [f'$y_{{{i}}}$' for i in indices]\n",
    "    }, index=df_index)\n",
    "y_notation"
   ]
  },
  {
   "cell_type": "markdown",
   "id": "87e22d6a",
   "metadata": {},
   "source": [
    "Again, you can see that the values in the \"$\\vec{y}$ values\" column, are the \n",
    "values in our outcome vector `prestige`:"
   ]
  },
  {
   "cell_type": "code",
   "execution_count": 35,
   "id": "95244d26",
   "metadata": {},
   "outputs": [
    {
     "data": {
      "text/plain": [
       "array([82, 83, 90, 76, 90, 87, 93, 90, 52, 88, 57, 89, 97, 59, 73])"
      ]
     },
     "execution_count": 35,
     "metadata": {},
     "output_type": "execute_result"
    }
   ],
   "source": [
    "# show the prestige vector\n",
    "prestige"
   ]
  },
  {
   "cell_type": "markdown",
   "id": "854cdfe7",
   "metadata": {},
   "source": [
    "Again, the values in the \"$y$ value notation\" column show the general vector\n",
    "notation for these values (this notation applies to other $\\vec{y}$ vectors\n",
    "as well).\n",
    "\n",
    "More generally we can write $\\vec{y}$ as a vector of any $n$ numbers:\n",
    "\n",
    "$$\n",
    "\\vec{y} = \\begin{bmatrix}\n",
    "           y_{1} \\\\\n",
    "           y_{2} \\\\\n",
    "           \\vdots \\\\\n",
    "           y_{n}\n",
    "         \\end{bmatrix}\n",
    "$$"
   ]
  },
  {
   "cell_type": "markdown",
   "id": "94424528",
   "metadata": {},
   "source": [
    "## Notation for fitted values"
   ]
  },
  {
   "cell_type": "markdown",
   "id": "343673af",
   "metadata": {},
   "source": [
    "If we have $n$ values in $\\vec{x}$ and $\\vec{y}$ then we have $n$ *fitted* values.\n",
    "\n",
    "In our case we have 15 values ($n = 15$) in $\\vec{x}$ and $\\vec{y}$, so we have 15 *fitted* values.\n",
    "\n",
    "We write the fitted value for the first occupation as $\\hat{y}_1$, that for the\n",
    "second as $\\hat{y}_2$, and so on:\n",
    "\n",
    "$$\n",
    "\\vec{\\hat{y}} = \\begin{bmatrix}\n",
    "           \\hat{y}_{1} \\\\\n",
    "           \\hat{y}_{2} \\\\\n",
    "           \\vdots \\\\\n",
    "           \\hat{y}_{n}\n",
    "         \\end{bmatrix}\n",
    "$$\n",
    "\n",
    "You can read the $\\hat{ }$ over the $y$ as \"fitted\", so $\\hat{y}_1$ is our\n",
    "fitted value for $y_1$. Remember, the fitted values are generated from the\n",
    "parameter estimates which minimize the sum of the squared error.\n",
    "\n",
    "Our regression model says each fitted value comes about by multiplying the\n",
    "corresponding $x$ value by $b$ (the slope) and then adding $c$ (the intercept).\n",
    "\n",
    "So, the fitted values are:\n",
    "\n",
    "$$\n",
    "\\hat{y}_1 = b x_1 + c \\\\\n",
    "\\hat{y}_2 = b x_2 + c \\\\\n",
    "... \\\\\n",
    "\\hat{y}_n = b x_n + c\n",
    "$$\n",
    "\n",
    "More compactly:\n",
    "\n",
    "$$\n",
    "\\vec{\\hat{y}}  = \\begin{bmatrix}\n",
    "           b x_1 + c \\\\\n",
    "           b x_2 + c \\\\\n",
    "           \\vdots \\\\\n",
    "           b x_n + c\n",
    "         \\end{bmatrix}\n",
    "$$\n",
    "\n",
    "We often use $i$ as a general *index* into the vectors.  So, instead of\n",
    "writing:\n",
    "\n",
    "$$\n",
    "\\hat{y}_1 = b x_1 + c \\\\\n",
    "\\hat{y}_2 = b x_2 + c \\\\\n",
    "... \\\\\n",
    "\\hat{y}_n = b x_n + c\n",
    "$$\n",
    "\n",
    "we use $i$ to mean any whole number from 1 through $n$, and so:\n",
    "\n",
    "$$\n",
    "\\hat{y}_i = b x_i + c \\\\\n",
    "\\text{for } i \\in [ 1, 2, ... n]\n",
    "$$\n",
    "\n",
    "For the second line above, read $\\in$ as \"in\", and the whole line as \"For $i$\n",
    "in 1 through $n$\", or as \"Where $i$ can take any value from 1 through $n$\n",
    "inclusive\". (Remember, $n$ is the total number of observational units in our dataset).\n",
    "\n",
    "We mean here, that for any whole number $i$ from 1 through $n$, the fitted\n",
    "value $\\hat{y}_i$ (e.g. $\\hat{y}_3$, where $i=3$) is given by $b$ times the\n",
    "corresponding $x$ value ($x_3$ where $i=3$) plus $c$.\n",
    "\n",
    "The error vector $\\vec{\\varepsilon}$ is:\n",
    "\n",
    "$$\n",
    "\\vec{\\varepsilon}=\n",
    "\\begin{bmatrix}\n",
    "           \\varepsilon_1 \\\\\n",
    "           \\varepsilon_2 \\\\\n",
    "           \\vdots \\\\\n",
    "           \\varepsilon_n\n",
    "         \\end{bmatrix}\n",
    "$$\n",
    "\n",
    "For our linear model, the errors are:\n",
    "\n",
    "$$\n",
    "\\vec{\\varepsilon}= \\begin{bmatrix}\n",
    "           y_1 - \\hat{y}_1 \\\\\n",
    "           y_2 - \\hat{y}_2 \\\\\n",
    "           \\vdots \\\\\n",
    "           y_n - \\hat{y}_n\n",
    "         \\end{bmatrix}         = \n",
    "         \\begin{bmatrix}\n",
    "           y_1 - (b x_1 + c)\\\\\n",
    "           y_2 - (b x_2 + c) \\\\\n",
    "           \\vdots \\\\\n",
    "           y_n - (b x_n + c)\n",
    "         \\end{bmatrix}         \n",
    "$$\n",
    "\n",
    "Again, we could write this same idea with the general index $i$ as:\n",
    "\n",
    "$$\n",
    "\\varepsilon_i = y_i - (b x_i + c)\n",
    "$$\n",
    "\n",
    "Putting all of this together, we can express the formula for our linear regression model ($\\vec{y} = b \\vec{x} + \\text{c} + \\vec{\\varepsilon} $) using the generalized mathematical form of the vectors as:\n",
    "\n",
    "$\\begin{bmatrix}{} \\text{$y_{1}$} \\\\ \\text{$y_{2}$} \\\\ \\text{$y_{3}$} \\\\ \\text{$y_{4}$} \\\\ \\text{$y_{5}$} \\\\ \\text{$y_{6}$} \\\\ \\text{$y_{7}$} \\\\ \\text{$y_{8}$} \\\\ \\text{$y_{9}$} \\\\ \\text{$y_{10}$} \\\\ \\text{$y_{11}$} \\\\ \\text{$y_{12}$} \\\\ \\text{$y_{13}$} \\\\ \\text{$y_{14}$} \\\\ \\text{$y_{15}$} \\\\ \\end{bmatrix} = b * \\begin{bmatrix}{} \\text{$x_{1}$} \\\\ \\text{$x_{2}$} \\\\ \\text{$x_{3}$} \\\\ \\text{$x_{4}$} \\\\ \\text{$x_{5}$} \\\\ \\text{$x_{6}$} \\\\ \\text{$x_{7}$} \\\\ \\text{$x_{8}$} \\\\ \\text{$x_{9}$} \\\\ \\text{$x_{10}$} \\\\ \\text{$x_{11}$} \\\\ \\text{$x_{12}$} \\\\ \\text{$x_{13}$} \\\\ \\text{$x_{14}$} \\\\ \\text{$x_{15}$} \\\\ \\end{bmatrix} + c + \\begin{bmatrix}{} \\text{$\\varepsilon_{1}$} \\\\ \\text{$\\varepsilon_{2}$} \\\\ \\text{$\\varepsilon_{3}$} \\\\ \\text{$\\varepsilon_{4}$} \\\\ \\text{$\\varepsilon_{5}$} \\\\ \\text{$\\varepsilon_{6}$} \\\\ \\text{$\\varepsilon_{7}$} \\\\ \\text{$\\varepsilon_{8}$} \\\\ \\text{$\\varepsilon_{9}$} \\\\ \\text{$\\varepsilon_{10}$} \\\\ \\text{$\\varepsilon_{11}$} \\\\ \\text{$\\varepsilon_{12}$} \\\\ \\text{$\\varepsilon_{13}$} \\\\ \\text{$\\varepsilon_{14}$} \\\\ \\text{$\\varepsilon_{15}$} \\\\ \\end{bmatrix}$\n",
    "\n",
    "And the formula for our fitted values ($\\hat{y}_i = b x_i + c$) can be expressed using the generalized mathematical form of the vectors as:\n",
    "\n",
    "$\\begin{bmatrix}{} \\text{$\\hat{y_{1}}$} \\\\ \\text{$\\hat{y_{2}}$} \\\\ \\text{$\\hat{y_{3}}$} \\\\ \\text{$\\hat{y_{4}}$} \\\\ \\text{$\\hat{y_{5}}$} \\\\ \\text{$\\hat{y_{6}}$} \\\\ \\text{$\\hat{y_{7}}$} \\\\ \\text{$\\hat{y_{8}}$} \\\\ \\text{$\\hat{y_{9}}$} \\\\ \\text{$\\hat{y_{10}}$} \\\\ \\text{$\\hat{y_{11}}$} \\\\ \\text{$\\hat{y_{12}}$} \\\\ \\text{$\\hat{y_{13}}$} \\\\ \\text{$\\hat{y_{14}}$} \\\\ \\text{$\\hat{y_{15}}$} \\\\ \\end{bmatrix} = b * \\begin{bmatrix}{} \\text{$x_{1}$} \\\\ \\text{$x_{2}$} \\\\ \\text{$x_{3}$} \\\\ \\text{$x_{4}$} \\\\ \\text{$x_{5}$} \\\\ \\text{$x_{6}$} \\\\ \\text{$x_{7}$} \\\\ \\text{$x_{8}$} \\\\ \\text{$x_{9}$} \\\\ \\text{$x_{10}$} \\\\ \\text{$x_{11}$} \\\\ \\text{$x_{12}$} \\\\ \\text{$x_{13}$} \\\\ \\text{$x_{14}$} \\\\ \\text{$x_{15}$} \\\\ \\end{bmatrix} + c$\n",
    "\n",
    "Again, here is a good point to pause to check you can relate the mathematical notation perspective to the graphical perspective, which is shown again below:"
   ]
  },
  {
   "cell_type": "code",
   "execution_count": 36,
   "id": "6c5ca2ef",
   "metadata": {},
   "outputs": [
    {
     "data": {
      "image/png": "[encoded data removed]",
      "text/plain": [
       "<Figure size 640x480 with 1 Axes>"
      ]
     },
     "metadata": {},
     "output_type": "display_data"
    }
   ],
   "source": [
    "make_scatter(with_errors = True)"
   ]
  },
  {
   "cell_type": "markdown",
   "id": "01bbc828",
   "metadata": {},
   "source": [
    "## Approximation and errors\n",
    "\n",
    "Our straight line model says that the $y_i$ values are approximately predicted\n",
    "by the fitted values $\\hat{y}_i = b x_i + c$.\n",
    "\n",
    "$$\n",
    "y_i \\approx bx_i + c\n",
    "$$\n",
    "\n",
    "Read $\\approx$ above as *approximately equal to*.\n",
    "\n",
    "With the $\\approx$, we are accepting that we will not succeed in explaining our\n",
    "prestige values exactly. We can rephrase this by saying that each\n",
    "observation is equal to the predicted value (from the formula above) plus the\n",
    "remaining error for each observation:\n",
    "\n",
    "$$\n",
    "y_i = bx_i + c + \\varepsilon_i\n",
    "$$\n",
    "\n",
    "Of course this must be true for our calculated errors because we calculated\n",
    "them with:\n",
    "\n",
    "$$\n",
    "\\varepsilon_i = y_i - (b x_i + c)\n",
    "$$"
   ]
  },
  {
   "cell_type": "code",
   "execution_count": 37,
   "id": "a200de1f",
   "metadata": {},
   "outputs": [],
   "source": [
    "assert np.allclose(y, b * x + c + errors)"
   ]
  },
  {
   "cell_type": "markdown",
   "id": "9feaa943",
   "metadata": {},
   "source": [
    "# Putting it all together\n",
    "\n",
    "On this page, we have introduced the mathematical notation for linear regression models. We have\n",
    "spoken about the key purposes of (linear) regression models (description and prediction).\n",
    "We have performed a linear regression on Duncan's occupational prestige data. We modelled `prestige`\n",
    "as a linear function of `education` - our observational units were occupations.\n",
    "\n",
    "The cell below will print out a walkthrough of everything we have done on this page.\n",
    "It will shown the mathematical notation, and then will show the values within our\n",
    "vectors, and the values of our parameter estimates, in place of the symbols, within the same notation.\n",
    "\n",
    "*Note*: here we will write the multiplication symbol ($*$) for clarity, but you will see that most writers \n",
    "omit the multiplicaton sign in the mathematical notation."
   ]
  },
  {
   "cell_type": "code",
   "execution_count": 38,
   "id": "059e71c9",
   "metadata": {
    "lines_to_next_cell": 0
   },
   "outputs": [
    {
     "data": {
      "text/markdown": [
       "Here is the mathematical notation for our linear regression model:"
      ],
      "text/plain": [
       "<IPython.core.display.Markdown object>"
      ]
     },
     "metadata": {},
     "output_type": "display_data"
    },
    {
     "data": {
      "text/markdown": [
       "$ \\vec{y} = b * \\vec{x} + \\text{c} + \\vec{\\varepsilon} $"
      ],
      "text/plain": [
       "<IPython.core.display.Markdown object>"
      ]
     },
     "metadata": {},
     "output_type": "display_data"
    },
    {
     "data": {
      "text/markdown": [
       "The full model, showing the general form of the vectors (i.e. not specific to this dataset), can be written as:"
      ],
      "text/plain": [
       "<IPython.core.display.Markdown object>"
      ]
     },
     "metadata": {},
     "output_type": "display_data"
    },
    {
     "data": {
      "text/markdown": [
       "$\\begin{bmatrix}{} \\text{$y_{1}$} \\\\ \\text{$y_{2}$} \\\\ \\text{$y_{3}$} \\\\ \\text{$y_{4}$} \\\\ \\text{$y_{5}$} \\\\ \\text{$y_{6}$} \\\\ \\text{$y_{7}$} \\\\ \\text{$y_{8}$} \\\\ \\text{$y_{9}$} \\\\ \\text{$y_{10}$} \\\\ \\text{$y_{11}$} \\\\ \\text{$y_{12}$} \\\\ \\text{$y_{13}$} \\\\ \\text{$y_{14}$} \\\\ \\text{$y_{15}$} \\\\ \\end{bmatrix} = b * \\begin{bmatrix}{} \\text{$x_{1}$} \\\\ \\text{$x_{2}$} \\\\ \\text{$x_{3}$} \\\\ \\text{$x_{4}$} \\\\ \\text{$x_{5}$} \\\\ \\text{$x_{6}$} \\\\ \\text{$x_{7}$} \\\\ \\text{$x_{8}$} \\\\ \\text{$x_{9}$} \\\\ \\text{$x_{10}$} \\\\ \\text{$x_{11}$} \\\\ \\text{$x_{12}$} \\\\ \\text{$x_{13}$} \\\\ \\text{$x_{14}$} \\\\ \\text{$x_{15}$} \\\\ \\end{bmatrix} + c + \\begin{bmatrix}{} \\text{$\\varepsilon_{1}$} \\\\ \\text{$\\varepsilon_{2}$} \\\\ \\text{$\\varepsilon_{3}$} \\\\ \\text{$\\varepsilon_{4}$} \\\\ \\text{$\\varepsilon_{5}$} \\\\ \\text{$\\varepsilon_{6}$} \\\\ \\text{$\\varepsilon_{7}$} \\\\ \\text{$\\varepsilon_{8}$} \\\\ \\text{$\\varepsilon_{9}$} \\\\ \\text{$\\varepsilon_{10}$} \\\\ \\text{$\\varepsilon_{11}$} \\\\ \\text{$\\varepsilon_{12}$} \\\\ \\text{$\\varepsilon_{13}$} \\\\ \\text{$\\varepsilon_{14}$} \\\\ \\text{$\\varepsilon_{15}$} \\\\ \\end{bmatrix}$"
      ],
      "text/plain": [
       "<IPython.core.display.Markdown object>"
      ]
     },
     "metadata": {},
     "output_type": "display_data"
    },
    {
     "data": {
      "text/markdown": [
       "$\\vec{x}$ is our `education` vector:"
      ],
      "text/plain": [
       "<IPython.core.display.Markdown object>"
      ]
     },
     "metadata": {},
     "output_type": "display_data"
    },
    {
     "data": {
      "text/markdown": [
       "`education` = $ \\vec{x} = \\begin{bmatrix}{} 86 \\\\ 76 \\\\ 92 \\\\ 90 \\\\ 86 \\\\ 84 \\\\ 93 \\\\ 100 \\\\ 87 \\\\ 86 \\\\ 74 \\\\ 98 \\\\ 97 \\\\ 84 \\\\ 91 \\\\ \\end{bmatrix}$"
      ],
      "text/plain": [
       "<IPython.core.display.Markdown object>"
      ]
     },
     "metadata": {},
     "output_type": "display_data"
    },
    {
     "data": {
      "text/markdown": [
       "$\\vec{y}$ is our `prestige` vector:"
      ],
      "text/plain": [
       "<IPython.core.display.Markdown object>"
      ]
     },
     "metadata": {},
     "output_type": "display_data"
    },
    {
     "data": {
      "text/markdown": [
       "`prestige` = $ \\vec{y} = \\begin{bmatrix}{} 82 \\\\ 83 \\\\ 90 \\\\ 76 \\\\ 90 \\\\ 87 \\\\ 93 \\\\ 90 \\\\ 52 \\\\ 88 \\\\ 57 \\\\ 89 \\\\ 97 \\\\ 59 \\\\ 73 \\\\ \\end{bmatrix}$"
      ],
      "text/plain": [
       "<IPython.core.display.Markdown object>"
      ]
     },
     "metadata": {},
     "output_type": "display_data"
    },
    {
     "data": {
      "text/markdown": [
       "Here is our model ($ \\vec{y} = b * \\vec{x} + \\text{c} + \\vec{\\varepsilon} $), showing the actual values within the `education` vector and the `prestige` vector:"
      ],
      "text/plain": [
       "<IPython.core.display.Markdown object>"
      ]
     },
     "metadata": {},
     "output_type": "display_data"
    },
    {
     "data": {
      "text/markdown": [
       "$\\begin{bmatrix}{} 82 \\\\ 83 \\\\ 90 \\\\ 76 \\\\ 90 \\\\ 87 \\\\ 93 \\\\ 90 \\\\ 52 \\\\ 88 \\\\ 57 \\\\ 89 \\\\ 97 \\\\ 59 \\\\ 73 \\\\ \\end{bmatrix} = b * \\begin{bmatrix}{} 86 \\\\ 76 \\\\ 92 \\\\ 90 \\\\ 86 \\\\ 84 \\\\ 93 \\\\ 100 \\\\ 87 \\\\ 86 \\\\ 74 \\\\ 98 \\\\ 97 \\\\ 84 \\\\ 91 \\\\ \\end{bmatrix} + c + \\begin{bmatrix}{} \\text{$\\varepsilon_{1}$} \\\\ \\text{$\\varepsilon_{2}$} \\\\ \\text{$\\varepsilon_{3}$} \\\\ \\text{$\\varepsilon_{4}$} \\\\ \\text{$\\varepsilon_{5}$} \\\\ \\text{$\\varepsilon_{6}$} \\\\ \\text{$\\varepsilon_{7}$} \\\\ \\text{$\\varepsilon_{8}$} \\\\ \\text{$\\varepsilon_{9}$} \\\\ \\text{$\\varepsilon_{10}$} \\\\ \\text{$\\varepsilon_{11}$} \\\\ \\text{$\\varepsilon_{12}$} \\\\ \\text{$\\varepsilon_{13}$} \\\\ \\text{$\\varepsilon_{14}$} \\\\ \\text{$\\varepsilon_{15}$} \\\\ \\end{bmatrix}$"
      ],
      "text/plain": [
       "<IPython.core.display.Markdown object>"
      ]
     },
     "metadata": {},
     "output_type": "display_data"
    },
    {
     "data": {
      "text/markdown": [
       "We used linear regression to obtain the values of $b$ and $c$ which minimize the sum of the squared error values (i.e. the values in the error vector $\\vec{\\varepsilon}$):"
      ],
      "text/plain": [
       "<IPython.core.display.Markdown object>"
      ]
     },
     "metadata": {},
     "output_type": "display_data"
    },
    {
     "data": {
      "image/png": "[encoded data removed]",
      "text/plain": [
       "<Figure size 640x480 with 1 Axes>"
      ]
     },
     "metadata": {},
     "output_type": "display_data"
    },
    {
     "data": {
      "text/markdown": [
       "This gave us the parameter estimates \n",
       "$b$ = 1.006 and \n",
       "$c$ = -8.383"
      ],
      "text/plain": [
       "<IPython.core.display.Markdown object>"
      ]
     },
     "metadata": {},
     "output_type": "display_data"
    },
    {
     "data": {
      "text/markdown": [
       "These parameter estimates give us our fitted values. Here is the compact equation for our fitted values $\\hat{y}$:"
      ],
      "text/plain": [
       "<IPython.core.display.Markdown object>"
      ]
     },
     "metadata": {},
     "output_type": "display_data"
    },
    {
     "data": {
      "text/markdown": [
       "$\\vec{\\hat{y}} = b * \\vec{x} + \\text{c}$"
      ],
      "text/plain": [
       "<IPython.core.display.Markdown object>"
      ]
     },
     "metadata": {},
     "output_type": "display_data"
    },
    {
     "data": {
      "text/markdown": [
       "And here is the vector form of the same general equation:"
      ],
      "text/plain": [
       "<IPython.core.display.Markdown object>"
      ]
     },
     "metadata": {},
     "output_type": "display_data"
    },
    {
     "data": {
      "text/markdown": [
       "$\\begin{bmatrix}{} \\hat{y_{1}} \\\\ \\hat{y_{2}} \\\\ \\hat{y_{3}} \\\\ \\hat{y_{4}} \\\\ \\hat{y_{5}} \\\\ \\hat{y_{6}} \\\\ \\hat{y_{7}} \\\\ \\hat{y_{8}} \\\\ \\hat{y_{9}} \\\\ \\hat{y_{10}} \\\\ \\hat{y_{11}} \\\\ \\hat{y_{12}} \\\\ \\hat{y_{13}} \\\\ \\hat{y_{14}} \\\\ \\hat{y_{15}} \\\\ \\end{bmatrix} = b * \\begin{bmatrix}{} x_{1} \\\\ x_{2} \\\\ x_{3} \\\\ x_{4} \\\\ x_{5} \\\\ x_{6} \\\\ x_{7} \\\\ x_{8} \\\\ x_{9} \\\\ x_{10} \\\\ x_{11} \\\\ x_{12} \\\\ x_{13}\\\\ x_{14} \\\\ x_{15} \\\\ \\end{bmatrix} + c$"
      ],
      "text/plain": [
       "<IPython.core.display.Markdown object>"
      ]
     },
     "metadata": {},
     "output_type": "display_data"
    },
    {
     "data": {
      "text/markdown": [
       "Here is the same compact equation for the fitted values $\\hat{y}$, with our actual parameter estimates shown, in place of their symbols:"
      ],
      "text/plain": [
       "<IPython.core.display.Markdown object>"
      ]
     },
     "metadata": {},
     "output_type": "display_data"
    },
    {
     "data": {
      "text/markdown": [
       "$\\vec{\\hat{y}} =$ 1.006 * $\\vec{x}$ $+$  -8.383"
      ],
      "text/plain": [
       "<IPython.core.display.Markdown object>"
      ]
     },
     "metadata": {},
     "output_type": "display_data"
    },
    {
     "data": {
      "text/markdown": [
       "Here is the same equation, with our parameter estimates shown AND the values within each vector shown:"
      ],
      "text/plain": [
       "<IPython.core.display.Markdown object>"
      ]
     },
     "metadata": {},
     "output_type": "display_data"
    },
    {
     "data": {
      "text/markdown": [
       "$\\begin{bmatrix}{} 78.12 \\\\ 68.06 \\\\ 84.16 \\\\ 82.14 \\\\ 78.12 \\\\ 76.11 \\\\ 85.16 \\\\ 92.2 \\\\ 79.13 \\\\ 78.12 \\\\ 66.05 \\\\ 90.19 \\\\ 89.18 \\\\ 76.11 \\\\ 83.15 \\\\ \\end{bmatrix} = 1.006 * \\begin{bmatrix}{} 86 \\\\ 76 \\\\ 92 \\\\ 90 \\\\ 86 \\\\ 84 \\\\ 93 \\\\ 100 \\\\ 87 \\\\ 86 \\\\ 74 \\\\ 98 \\\\ 97 \\\\ 84 \\\\ 91 \\\\ \\end{bmatrix} + -8.383$"
      ],
      "text/plain": [
       "<IPython.core.display.Markdown object>"
      ]
     },
     "metadata": {},
     "output_type": "display_data"
    },
    {
     "data": {
      "text/markdown": [
       "The error vector $\\vec{\\varepsilon}$ is our actual $y$ values minus our fitted $\\hat{y}$ values. Here is the general, compact form of the equation for the error vector:"
      ],
      "text/plain": [
       "<IPython.core.display.Markdown object>"
      ]
     },
     "metadata": {},
     "output_type": "display_data"
    },
    {
     "data": {
      "text/markdown": [
       "$\\vec{\\varepsilon} = \\vec{y} - \\vec{\\hat{y}} $"
      ],
      "text/plain": [
       "<IPython.core.display.Markdown object>"
      ]
     },
     "metadata": {},
     "output_type": "display_data"
    },
    {
     "data": {
      "text/markdown": [
       "And here is the general form of the same equation, showing the general vectors:"
      ],
      "text/plain": [
       "<IPython.core.display.Markdown object>"
      ]
     },
     "metadata": {},
     "output_type": "display_data"
    },
    {
     "data": {
      "text/markdown": [
       "$\\begin{bmatrix}{} \\text{$\\varepsilon_{1}$} \\\\ \\text{$\\varepsilon_{2}$} \\\\ \\text{$\\varepsilon_{3}$} \\\\ \\text{$\\varepsilon_{4}$} \\\\ \\text{$\\varepsilon_{5}$} \\\\ \\text{$\\varepsilon_{6}$} \\\\ \\text{$\\varepsilon_{7}$} \\\\ \\text{$\\varepsilon_{8}$} \\\\ \\text{$\\varepsilon_{9}$} \\\\ \\text{$\\varepsilon_{10}$} \\\\ \\text{$\\varepsilon_{11}$} \\\\ \\text{$\\varepsilon_{12}$} \\\\ \\text{$\\varepsilon_{13}$} \\\\ \\text{$\\varepsilon_{14}$} \\\\ \\text{$\\varepsilon_{15}$} \\\\ \\end{bmatrix} = \\begin{bmatrix}{} \\text{$y_{1}$} \\\\ \\text{$y_{2}$} \\\\ \\text{$y_{3}$} \\\\ \\text{$y_{4}$} \\\\ \\text{$y_{5}$} \\\\ \\text{$y_{6}$} \\\\ \\text{$y_{7}$} \\\\ \\text{$y_{8}$} \\\\ \\text{$y_{9}$} \\\\ \\text{$y_{10}$} \\\\ \\text{$y_{11}$} \\\\ \\text{$y_{12}$} \\\\ \\text{$y_{13}$} \\\\ \\text{$y_{14}$} \\\\ \\text{$y_{15}$} \\\\ \\end{bmatrix} - \\begin{bmatrix}{} \\hat{y_{1}} \\\\ \\hat{y_{2}} \\\\ \\hat{y_{3}} \\\\ \\hat{y_{4}} \\\\ \\hat{y_{5}} \\\\ \\hat{y_{6}} \\\\ \\hat{y_{7}} \\\\ \\hat{y_{8}} \\\\ \\hat{y_{9}} \\\\ \\hat{y_{10}} \\\\ \\hat{y_{11}} \\\\ \\hat{y_{12}} \\\\ \\hat{y_{13}} \\\\ \\hat{y_{14}} \\\\ \\hat{y_{15}} \\\\ \\end{bmatrix}$"
      ],
      "text/plain": [
       "<IPython.core.display.Markdown object>"
      ]
     },
     "metadata": {},
     "output_type": "display_data"
    },
    {
     "data": {
      "text/markdown": [
       "Which with our actual data and fitted values is:"
      ],
      "text/plain": [
       "<IPython.core.display.Markdown object>"
      ]
     },
     "metadata": {},
     "output_type": "display_data"
    },
    {
     "data": {
      "text/markdown": [
       "$ \\begin{bmatrix}{} 3.88 \\\\ 14.94 \\\\ 5.84 \\\\ -6.14 \\\\ 11.88 \\\\ 10.89 \\\\ 7.84 \\\\ -2.2 \\\\ -27.13 \\\\ 9.88 \\\\ -9.05 \\\\ -1.19 \\\\ 7.82 \\\\ -17.11 \\\\ -10.15 \\\\ \\end{bmatrix} = \\begin{bmatrix}{} 82 \\\\ 83 \\\\ 90 \\\\ 76 \\\\ 90 \\\\ 87 \\\\ 93 \\\\ 90 \\\\ 52 \\\\ 88 \\\\ 57 \\\\ 89 \\\\ 97 \\\\ 59 \\\\ 73 \\\\ \\end{bmatrix} - \\begin{bmatrix}{} 78.12 \\\\ 68.062 \\\\ 84.155 \\\\ 82.143 \\\\ 78.12 \\\\ 76.108 \\\\ 85.161 \\\\ 92.202 \\\\ 79.126 \\\\ 78.12 \\\\ 66.05 \\\\ 90.19 \\\\ 89.184 \\\\ 76.108 \\\\ 83.149 \\\\ \\end{bmatrix} $"
      ],
      "text/plain": [
       "<IPython.core.display.Markdown object>"
      ]
     },
     "metadata": {},
     "output_type": "display_data"
    },
    {
     "data": {
      "text/markdown": [
       "So our full model ($ \\vec{y} = b * \\vec{x} + \\text{c} + \\vec{\\varepsilon} $), showing all values within all the vectors is:"
      ],
      "text/plain": [
       "<IPython.core.display.Markdown object>"
      ]
     },
     "metadata": {},
     "output_type": "display_data"
    },
    {
     "data": {
      "text/markdown": [
       "$\\begin{bmatrix}{} 82 \\\\ 83 \\\\ 90 \\\\ 76 \\\\ 90 \\\\ 87 \\\\ 93 \\\\ 90 \\\\ 52 \\\\ 88 \\\\ 57 \\\\ 89 \\\\ 97 \\\\ 59 \\\\ 73 \\\\ \\end{bmatrix} = b * \\begin{bmatrix}{} 86 \\\\ 76 \\\\ 92 \\\\ 90 \\\\ 86 \\\\ 84 \\\\ 93 \\\\ 100 \\\\ 87 \\\\ 86 \\\\ 74 \\\\ 98 \\\\ 97 \\\\ 84 \\\\ 91 \\\\ \\end{bmatrix} + c + \\begin{bmatrix}{} 3.88 \\\\ 14.938 \\\\ 5.845 \\\\ -6.143 \\\\ 11.88 \\\\ 10.892 \\\\ 7.839 \\\\ -2.202 \\\\ -27.126 \\\\ 9.88 \\\\ -9.05 \\\\ -1.19 \\\\ 7.816 \\\\ -17.108 \\\\ -10.149 \\\\ \\end{bmatrix}$"
      ],
      "text/plain": [
       "<IPython.core.display.Markdown object>"
      ]
     },
     "metadata": {},
     "output_type": "display_data"
    },
    {
     "data": {
      "text/markdown": [
       "You can see that this conforms with the general mathematical notation:"
      ],
      "text/plain": [
       "<IPython.core.display.Markdown object>"
      ]
     },
     "metadata": {},
     "output_type": "display_data"
    },
    {
     "data": {
      "text/markdown": [
       "$\\begin{bmatrix}{} \\text{$y_{1}$} \\\\ \\text{$y_{2}$} \\\\ \\text{$y_{3}$} \\\\ \\text{$y_{4}$} \\\\ \\text{$y_{5}$} \\\\ \\text{$y_{6}$} \\\\ \\text{$y_{7}$} \\\\ \\text{$y_{8}$} \\\\ \\text{$y_{9}$} \\\\ \\text{$y_{10}$} \\\\ \\text{$y_{11}$} \\\\ \\text{$y_{12}$} \\\\ \\text{$y_{13}$} \\\\ \\text{$y_{14}$} \\\\ \\text{$y_{15}$} \\\\ \\end{bmatrix} = b * \\begin{bmatrix}{} \\text{$x_{1}$} \\\\ \\text{$x_{2}$} \\\\ \\text{$x_{3}$} \\\\ \\text{$x_{4}$} \\\\ \\text{$x_{5}$} \\\\ \\text{$x_{6}$} \\\\ \\text{$x_{7}$} \\\\ \\text{$x_{8}$} \\\\ \\text{$x_{9}$} \\\\ \\text{$x_{10}$} \\\\ \\text{$x_{11}$} \\\\ \\text{$x_{12}$} \\\\ \\text{$x_{13}$} \\\\ \\text{$x_{14}$} \\\\ \\text{$x_{15}$} \\\\ \\end{bmatrix} + c + \\begin{bmatrix}{} \\text{$\\varepsilon_{1}$} \\\\ \\text{$\\varepsilon_{2}$} \\\\ \\text{$\\varepsilon_{3}$} \\\\ \\text{$\\varepsilon_{4}$} \\\\ \\text{$\\varepsilon_{5}$} \\\\ \\text{$\\varepsilon_{6}$} \\\\ \\text{$\\varepsilon_{7}$} \\\\ \\text{$\\varepsilon_{8}$} \\\\ \\text{$\\varepsilon_{9}$} \\\\ \\text{$\\varepsilon_{10}$} \\\\ \\text{$\\varepsilon_{11}$} \\\\ \\text{$\\varepsilon_{12}$} \\\\ \\text{$\\varepsilon_{13}$} \\\\ \\text{$\\varepsilon_{14}$} \\\\ \\text{$\\varepsilon_{15}$} \\\\ \\end{bmatrix}$"
      ],
      "text/plain": [
       "<IPython.core.display.Markdown object>"
      ]
     },
     "metadata": {},
     "output_type": "display_data"
    },
    {
     "data": {
      "text/markdown": [
       "And here is our full model, showing all values within all the vectors AND the values of our parameter estimates:"
      ],
      "text/plain": [
       "<IPython.core.display.Markdown object>"
      ]
     },
     "metadata": {},
     "output_type": "display_data"
    },
    {
     "data": {
      "text/markdown": [
       "$\\begin{bmatrix}{} 82 \\\\ 83 \\\\ 90 \\\\ 76 \\\\ 90 \\\\ 87 \\\\ 93 \\\\ 90 \\\\ 52 \\\\ 88 \\\\ 57 \\\\ 89 \\\\ 97 \\\\ 59 \\\\ 73 \\\\ \\end{bmatrix} = 1.006 * \\begin{bmatrix}{} 86 \\\\ 76 \\\\ 92 \\\\ 90 \\\\ 86 \\\\ 84 \\\\ 93 \\\\ 100 \\\\ 87 \\\\ 86 \\\\ 74 \\\\ 98 \\\\ 97 \\\\ 84 \\\\ 91 \\\\ \\end{bmatrix} + -8.383 + \\begin{bmatrix}{} 3.88 \\\\ 14.938 \\\\ 5.845 \\\\ -6.143 \\\\ 11.88 \\\\ 10.892 \\\\ 7.839 \\\\ -2.202 \\\\ -27.126 \\\\ 9.88 \\\\ -9.05 \\\\ -1.19 \\\\ 7.816 \\\\ -17.108 \\\\ -10.149 \\\\ \\end{bmatrix}$"
      ],
      "text/plain": [
       "<IPython.core.display.Markdown object>"
      ]
     },
     "metadata": {},
     "output_type": "display_data"
    }
   ],
   "source": [
    "# do not worry about this (thorny!) code, it just generates the walkthrough below\n",
    "jupyprint(\"Here is the mathematical notation for our linear regression model:\")\n",
    "jupyprint(\"$ \\\\vec{y} = b * \\\\vec{x} + \\\\text{c} + \\\\vec{\\\\varepsilon} $\")\n",
    "jupyprint(\"The full model, showing the general form of the vectors (i.e. not specific to this dataset), can be written as:\")\n",
    "x_string = f\"{arraytex(np.atleast_2d(x_is).T, quote_strings = False, contains_latex=True)}\"\n",
    "y_is = np.array([f'$y_{{{i}}}$' for i in indices])\n",
    "y_string = f\"{arraytex(np.atleast_2d(y_is).T, quote_strings = False, contains_latex=True)}\"\n",
    "e_string = y_string.replace(\"y_\", \"\\\\varepsilon_\")\n",
    "jupyprint(f\"${y_string} = b * {x_string} + c + {e_string}$\")\n",
    "jupyprint(\"$\\\\vec{x}$ is our `education` vector:\")\n",
    "jupyprint(\"`education` = $ \\\\vec{x} = \" + arraytex(np.atleast_2d(education).T)+\"$\" )\n",
    "jupyprint(\"$\\\\vec{y}$ is our `prestige` vector:\")\n",
    "jupyprint(\"`prestige` = $ \\\\vec{y} = \" + arraytex(np.atleast_2d(prestige).T)+\"$\" )\n",
    "jupyprint(\"Here is our model ($ \\\\vec{y} = b * \\\\vec{x} + \\\\text{c} + \\\\vec{\\\\varepsilon} $), showing the actual values within the `education` vector and the `prestige` vector:\")\n",
    "jupyprint(f\"${arraytex(np.atleast_2d(prestige).T)} = b * {arraytex(np.atleast_2d(education).T)} + c +\" +f\" {e_string}$\")\n",
    "jupyprint(\"We used linear regression to obtain the values of $b$ and $c$ which minimize the sum of the squared error values (i.e. the values in the error vector $\\\\vec{\\\\varepsilon}$):\")\n",
    "make_scatter(with_errors=True, show=True)\n",
    "jupyprint(f\"This gave us the parameter estimates \\n$b$ = {b.round(3)} and \\n$c$ = {c.round(3)}\")\n",
    "jupyprint(\"These parameter estimates give us our fitted values. Here is the compact equation for our fitted values $\\hat{y}$:\")\n",
    "jupyprint(\"$\\\\vec{\\\\hat{y}} = b * \\\\vec{x} + \\\\text{c}$\")\n",
    "jupyprint(\"And here is the vector form of the same general equation:\")\n",
    "jupyprint(\"$\\\\begin{bmatrix}{} \\\\hat{y_{1}} \\\\\\\\ \\\\hat{y_{2}} \\\\\\\\ \\\\hat{y_{3}} \\\\\\\\ \\\\hat{y_{4}} \\\\\\\\ \\\\hat{y_{5}} \\\\\\\\ \\\\hat{y_{6}} \\\\\\\\ \\\\hat{y_{7}} \\\\\\\\ \\\\hat{y_{8}} \\\\\\\\ \\\\hat{y_{9}} \\\\\\\\ \\\\hat{y_{10}} \\\\\\\\ \\\\hat{y_{11}} \\\\\\\\ \\\\hat{y_{12}} \\\\\\\\ \\\\hat{y_{13}} \\\\\\\\ \\\\hat{y_{14}} \\\\\\\\ \\\\hat{y_{15}} \\\\\\\\ \\\\end{bmatrix} = b * \\\\begin{bmatrix}{} x_{1} \\\\\\\\ x_{2} \\\\\\\\ x_{3} \\\\\\\\ x_{4} \\\\\\\\ x_{5} \\\\\\\\ x_{6} \\\\\\\\ x_{7} \\\\\\\\ x_{8} \\\\\\\\ x_{9} \\\\\\\\ x_{10} \\\\\\\\ x_{11} \\\\\\\\ x_{12} \\\\\\\\ x_{13}\\\\\\\\ x_{14} \\\\\\\\ x_{15} \\\\\\\\ \\\\end{bmatrix} + c$\")\n",
    "jupyprint(\"Here is the same compact equation for the fitted values $\\hat{y}$, with our actual parameter estimates shown, in place of their symbols:\")\n",
    "jupyprint(\"$\\\\vec{\\\\hat{y}} =$\"+f\" {b.round(3)} \" +\"* $\\\\vec{x}$\"+\" $+$ \"+f\" {c.round(3)}\")\n",
    "jupyprint(\"Here is the same equation, with our parameter estimates shown AND the values within each vector shown:\")\n",
    "jupyprint(f\"${arraytex(np.atleast_2d(fitted.round(2)).T)} = {b.round(3)} * {arraytex(np.atleast_2d(education).T)} + {c.round(3)}$\")\n",
    "jupyprint(\"The error vector $\\\\vec{\\\\varepsilon}$ is our actual $y$ values minus our fitted $\\hat{y}$ values. Here is the general, compact form of the equation for the error vector:\")\n",
    "jupyprint(\"$\\\\vec{\\\\varepsilon} = \\\\vec{y} - \\\\vec{\\\\hat{y}} $\")\n",
    "jupyprint(\"And here is the general form of the same equation, showing the general vectors:\")\n",
    "hat_string = \"\\\\begin{bmatrix}{} \\\\hat{y_{1}} \\\\\\\\ \\\\hat{y_{2}} \\\\\\\\ \\\\hat{y_{3}} \\\\\\\\ \\\\hat{y_{4}} \\\\\\\\ \\\\hat{y_{5}} \\\\\\\\ \\\\hat{y_{6}} \\\\\\\\ \\\\hat{y_{7}} \\\\\\\\ \\\\hat{y_{8}} \\\\\\\\ \\\\hat{y_{9}} \\\\\\\\ \\\\hat{y_{10}} \\\\\\\\ \\\\hat{y_{11}} \\\\\\\\ \\\\hat{y_{12}} \\\\\\\\ \\\\hat{y_{13}} \\\\\\\\ \\\\hat{y_{14}} \\\\\\\\ \\\\hat{y_{15}} \\\\\\\\ \\\\end{bmatrix}\"\n",
    "jupyprint(f\"${e_string} = {y_string} - {hat_string}$\")\n",
    "jupyprint(\"Which with our actual data and fitted values is:\")\n",
    "jupyprint(f\"$ {arraytex(np.atleast_2d(errors.round(2)).T)} = {arraytex(np.atleast_2d(prestige).T)} - {arraytex(np.atleast_2d(fitted.round(3)).T)} $\")\n",
    "jupyprint(\"So our full model ($ \\\\vec{y} = b * \\\\vec{x} + \\\\text{c} + \\\\vec{\\\\varepsilon} $), showing all values within all the vectors is:\")\n",
    "jupyprint(f\"${arraytex(np.atleast_2d(prestige).T)} = b * {arraytex(np.atleast_2d(education).T)} + c + {arraytex(np.atleast_2d(errors.round(3)).T)}$\")\n",
    "jupyprint(f\"You can see that this conforms with the general mathematical notation:\")\n",
    "jupyprint(f\"${y_string} = b * {x_string} + c + {e_string}$\")\n",
    "jupyprint(\"And here is our full model, showing all values within all the vectors AND the values of our parameter estimates:\")\n",
    "jupyprint(f\"${arraytex(np.atleast_2d(prestige).T)} = {b.round(3)} * {arraytex(np.atleast_2d(education).T)} + {c.round(3)} + {arraytex(np.atleast_2d(errors.round(3)).T)}$\")"
   ]
  },
  {
   "cell_type": "markdown",
   "id": "a4f4fcfb",
   "metadata": {},
   "source": [
    "Each component of the mathematical notation (for all these equations) can be represented in Python (this is one of the beautiful things about code).\n",
    "\n",
    "In fact, the mathematical operations can just be thought of as a way of representing what is happening in the code (and vice versa).\n",
    "\n",
    "We've seen this concept already, but just for further illustration, the cell below replicates the last equation shown immediately above this cell (e.g. the equation of the full model, showing the actual data in the vectors, and our parameter estimates). \n",
    "\n",
    "Compare the values from this calculation in Python to the values in the leftmost vector\n",
    "(to the left of the equals sign) in the last equation shown above: "
   ]
  },
  {
   "cell_type": "code",
   "execution_count": 39,
   "id": "aa0bdc69",
   "metadata": {},
   "outputs": [
    {
     "data": {
      "text/plain": [
       "array([82., 83., 90., 76., 90., 87., 93., 90., 52., 88., 57., 89., 97.,\n",
       "       59., 73.])"
      ]
     },
     "execution_count": 39,
     "metadata": {},
     "output_type": "execute_result"
    }
   ],
   "source": [
    "# the equation above, in python\n",
    "b * education + c + errors"
   ]
  },
  {
   "cell_type": "markdown",
   "id": "93790387",
   "metadata": {},
   "source": [
    "This page was almost certainty challenging if this is the first time you have seen this notation (or you have encountered it previously, but have not seen it for a long time). \n",
    "\n",
    "Translating between the mathematical notation, Python operations and graphical representations of the vectors is the best way to understand the content of this page. If you feel you have not fully grasped any aspect of the page, then we suggest revisiting the content and translating between the perspectives (mathematical, code, graphical) - it can take time to internalise, but if you keep at it you will eventually understand it!"
   ]
  },
  {
   "cell_type": "markdown",
   "id": "810cc91c",
   "metadata": {},
   "source": [
    "## References\n",
    "\n",
    "```{bibliography} /bib/course_refs.bib\n",
    ":filter: docname in docnames\n",
    "```"
   ]
  }
 ],
 "metadata": {
  "jupytext": {
   "formats": "ipynb,Rmd",
   "notebook_metadata_filter": "all,-language_info",
   "split_at_heading": true
  },
  "kernelspec": {
   "display_name": "Python 3 (ipykernel)",
   "language": "python",
   "name": "python3"
  },
  "language_info": {
   "codemirror_mode": {
    "name": "ipython",
    "version": 3
   },
   "file_extension": ".py",
   "mimetype": "text/x-python",
   "name": "python",
   "nbconvert_exporter": "python",
   "pygments_lexer": "ipython3",
   "version": "3.10.13"
  },
  "orphan": true
 },
 "nbformat": 4,
 "nbformat_minor": 5
}
